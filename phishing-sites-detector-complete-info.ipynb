{
 "cells": [
  {
   "cell_type": "code",
   "execution_count": 1,
   "metadata": {
    "_cell_guid": "b1076dfc-b9ad-4769-8c92-a6c4dae69d19",
    "_uuid": "8f2839f25d086af736a60e9eeb907d3b93b6e0e5",
    "execution": {
     "iopub.execute_input": "2023-11-24T01:57:20.852891Z",
     "iopub.status.busy": "2023-11-24T01:57:20.852148Z",
     "iopub.status.idle": "2023-11-24T01:57:20.862717Z",
     "shell.execute_reply": "2023-11-24T01:57:20.862042Z",
     "shell.execute_reply.started": "2023-11-24T01:38:16.644473Z"
    },
    "papermill": {
     "duration": 0.050065,
     "end_time": "2023-11-24T01:57:20.862857",
     "exception": false,
     "start_time": "2023-11-24T01:57:20.812792",
     "status": "completed"
    },
    "tags": []
   },
   "outputs": [
    {
     "name": "stdout",
     "output_type": "stream",
     "text": [
      "/kaggle/input/phishing-site-urls/phishing_site_urls.csv\n"
     ]
    }
   ],
   "source": [
    "# This Python 3 environment comes with many helpful analytics libraries installed\n",
    "# It is defined by the kaggle/python Docker image: https://github.com/kaggle/docker-python\n",
    "# For example, here's several helpful packages to load\n",
    "\n",
    "import numpy as np # linear algebra\n",
    "import pandas as pd # data processing, CSV file I/O (e.g. pd.read_csv)\n",
    "\n",
    "# Input data files are available in the read-only \"../input/\" directory\n",
    "# For example, running this (by clicking run or pressing Shift+Enter) will list all files under the input directory\n",
    "\n",
    "import os\n",
    "for dirname, _, filenames in os.walk('/kaggle/input'):\n",
    "    for filename in filenames:\n",
    "        print(os.path.join(dirname, filename))\n",
    "\n",
    "# You can write up to 5GB to the current directory (/kaggle/working/) that gets preserved as output when you create a version using \"Save & Run All\" \n",
    "# You can also write temporary files to /kaggle/temp/, but they won't be saved outside of the current session"
   ]
  },
  {
   "cell_type": "code",
   "execution_count": 2,
   "metadata": {
    "execution": {
     "iopub.execute_input": "2023-11-24T01:57:20.938388Z",
     "iopub.status.busy": "2023-11-24T01:57:20.937605Z",
     "iopub.status.idle": "2023-11-24T01:57:43.911779Z",
     "shell.execute_reply": "2023-11-24T01:57:43.911066Z",
     "shell.execute_reply.started": "2023-11-24T01:38:16.657025Z"
    },
    "papermill": {
     "duration": 23.013121,
     "end_time": "2023-11-24T01:57:43.911921",
     "exception": false,
     "start_time": "2023-11-24T01:57:20.898800",
     "status": "completed"
    },
    "tags": []
   },
   "outputs": [
    {
     "name": "stdout",
     "output_type": "stream",
     "text": [
      "Collecting selenium\r\n",
      "  Downloading selenium-4.11.2-py3-none-any.whl (7.2 MB)\r\n",
      "\u001b[K     |████████████████████████████████| 7.2 MB 5.0 MB/s \r\n",
      "\u001b[?25hCollecting trio-websocket~=0.9\r\n",
      "  Downloading trio_websocket-0.11.1-py3-none-any.whl (17 kB)\r\n",
      "Collecting urllib3[socks]<3,>=1.26\r\n",
      "  Downloading urllib3-2.0.7-py3-none-any.whl (124 kB)\r\n",
      "\u001b[K     |████████████████████████████████| 124 kB 38.5 MB/s \r\n",
      "\u001b[?25hCollecting certifi>=2021.10.8\r\n",
      "  Downloading certifi-2023.11.17-py3-none-any.whl (162 kB)\r\n",
      "\u001b[K     |████████████████████████████████| 162 kB 36.6 MB/s \r\n",
      "\u001b[?25hCollecting trio~=0.17\r\n",
      "  Downloading trio-0.22.2-py3-none-any.whl (400 kB)\r\n",
      "\u001b[K     |████████████████████████████████| 400 kB 64.3 MB/s \r\n",
      "\u001b[?25hCollecting exceptiongroup; python_version < \"3.11\"\r\n",
      "  Downloading exceptiongroup-1.2.0-py3-none-any.whl (16 kB)\r\n",
      "Collecting wsproto>=0.14\r\n",
      "  Downloading wsproto-1.2.0-py3-none-any.whl (24 kB)\r\n",
      "Requirement already satisfied: pysocks!=1.5.7,<2.0,>=1.5.6; extra == \"socks\" in /opt/conda/lib/python3.7/site-packages (from urllib3[socks]<3,>=1.26->selenium) (1.7.1)\r\n",
      "Requirement already satisfied: idna in /opt/conda/lib/python3.7/site-packages (from trio~=0.17->selenium) (2.9)\r\n",
      "Requirement already satisfied: sortedcontainers in /opt/conda/lib/python3.7/site-packages (from trio~=0.17->selenium) (2.1.0)\r\n",
      "Collecting outcome\r\n",
      "  Downloading outcome-1.3.0.post0-py2.py3-none-any.whl (10 kB)\r\n",
      "Collecting sniffio\r\n",
      "  Downloading sniffio-1.3.0-py3-none-any.whl (10 kB)\r\n",
      "Collecting attrs>=20.1.0\r\n",
      "  Downloading attrs-23.1.0-py3-none-any.whl (61 kB)\r\n",
      "\u001b[K     |████████████████████████████████| 61 kB 6.2 MB/s \r\n",
      "\u001b[?25hCollecting h11<1,>=0.9.0\r\n",
      "  Downloading h11-0.14.0-py3-none-any.whl (58 kB)\r\n",
      "\u001b[K     |████████████████████████████████| 58 kB 4.3 MB/s \r\n",
      "\u001b[?25hRequirement already satisfied: importlib-metadata; python_version < \"3.8\" in /opt/conda/lib/python3.7/site-packages (from attrs>=20.1.0->trio~=0.17->selenium) (1.6.0)\r\n",
      "Requirement already satisfied: typing-extensions; python_version < \"3.8\" in /opt/conda/lib/python3.7/site-packages (from h11<1,>=0.9.0->wsproto>=0.14->trio-websocket~=0.9->selenium) (3.7.4.1)\r\n",
      "Requirement already satisfied: zipp>=0.5 in /opt/conda/lib/python3.7/site-packages (from importlib-metadata; python_version < \"3.8\"->attrs>=20.1.0->trio~=0.17->selenium) (3.1.0)\r\n",
      "\u001b[31mERROR: requests 2.23.0 has requirement urllib3!=1.25.0,!=1.25.1,<1.26,>=1.21.1, but you'll have urllib3 2.0.7 which is incompatible.\u001b[0m\r\n",
      "\u001b[31mERROR: osmnx 0.15.1 has requirement geopandas>=0.7, but you'll have geopandas 0.6.3 which is incompatible.\u001b[0m\r\n",
      "\u001b[31mERROR: kubernetes 10.1.0 has requirement pyyaml~=3.12, but you'll have pyyaml 5.3.1 which is incompatible.\u001b[0m\r\n",
      "\u001b[31mERROR: kaggle 1.5.6 has requirement urllib3<1.25,>=1.21.1, but you'll have urllib3 2.0.7 which is incompatible.\u001b[0m\r\n",
      "\u001b[31mERROR: jupyterlab-git 0.10.0 has requirement nbdime<2.0.0,>=1.1.0, but you'll have nbdime 2.0.0 which is incompatible.\u001b[0m\r\n",
      "\u001b[31mERROR: hypertools 0.6.2 has requirement scikit-learn<0.22,>=0.19.1, but you'll have scikit-learn 0.23.1 which is incompatible.\u001b[0m\r\n",
      "\u001b[31mERROR: botocore 1.17.18 has requirement urllib3<1.26,>=1.20; python_version != \"3.4\", but you'll have urllib3 2.0.7 which is incompatible.\u001b[0m\r\n",
      "Installing collected packages: exceptiongroup, attrs, outcome, sniffio, trio, h11, wsproto, trio-websocket, urllib3, certifi, selenium\r\n",
      "  Attempting uninstall: attrs\r\n",
      "    Found existing installation: attrs 19.3.0\r\n",
      "    Uninstalling attrs-19.3.0:\r\n",
      "      Successfully uninstalled attrs-19.3.0\r\n",
      "  Attempting uninstall: urllib3\r\n",
      "    Found existing installation: urllib3 1.24.3\r\n",
      "    Uninstalling urllib3-1.24.3:\r\n",
      "      Successfully uninstalled urllib3-1.24.3\r\n",
      "  Attempting uninstall: certifi\r\n",
      "    Found existing installation: certifi 2020.6.20\r\n",
      "    Uninstalling certifi-2020.6.20:\r\n",
      "      Successfully uninstalled certifi-2020.6.20\r\n",
      "Successfully installed attrs-23.1.0 certifi-2023.11.17 exceptiongroup-1.2.0 h11-0.14.0 outcome-1.3.0.post0 selenium-4.11.2 sniffio-1.3.0 trio-0.22.2 trio-websocket-0.11.1 urllib3-2.0.7 wsproto-1.2.0\r\n",
      "\u001b[33mWARNING: You are using pip version 20.1.1; however, version 23.3.1 is available.\r\n",
      "You should consider upgrading via the '/opt/conda/bin/python3.7 -m pip install --upgrade pip' command.\u001b[0m\r\n"
     ]
    }
   ],
   "source": [
    "!pip install selenium"
   ]
  },
  {
   "cell_type": "code",
   "execution_count": 3,
   "metadata": {
    "_cell_guid": "79c7e3d0-c299-4dcb-8224-4455121ee9b0",
    "_uuid": "d629ff2d2480ee46fbb7e2d37f6b5fab8052498a",
    "execution": {
     "iopub.execute_input": "2023-11-24T01:57:44.007214Z",
     "iopub.status.busy": "2023-11-24T01:57:44.006539Z",
     "iopub.status.idle": "2023-11-24T01:57:46.658954Z",
     "shell.execute_reply": "2023-11-24T01:57:46.658370Z",
     "shell.execute_reply.started": "2023-11-24T01:38:25.552078Z"
    },
    "papermill": {
     "duration": 2.705654,
     "end_time": "2023-11-24T01:57:46.659068",
     "exception": false,
     "start_time": "2023-11-24T01:57:43.953414",
     "status": "completed"
    },
    "tags": []
   },
   "outputs": [],
   "source": [
    "import pandas as pd # use for data manipulation and analysis\n",
    "import numpy as np # use for multi-dimensional array and matrix\n",
    "\n",
    "import seaborn as sns # use for high-level interface for drawing attractive and informative statistical graphics \n",
    "import matplotlib.pyplot as plt # It provides an object-oriented API for embedding plots into applications\n",
    "%matplotlib inline \n",
    "# It sets the backend of matplotlib to the 'inline' backend:\n",
    "import plotly.express as px\n",
    "import time # calculate time \n",
    "\n",
    "from sklearn.linear_model import LogisticRegression # algo use to predict good or bad\n",
    "from sklearn.naive_bayes import MultinomialNB # nlp algo use to predict good or bad\n",
    "\n",
    "from sklearn.model_selection import train_test_split # spliting the data between feature and target\n",
    "from sklearn.metrics import classification_report # gives whole report about metrics (e.g, recall,precision,f1_score,c_m)\n",
    "from sklearn.metrics import confusion_matrix # gives info about actual and predict\n",
    "from nltk.tokenize import RegexpTokenizer # regexp tokenizers use to split words from text  \n",
    "from nltk.stem.snowball import SnowballStemmer # stemmes words\n",
    "from sklearn.feature_extraction.text import CountVectorizer # create sparse matrix of words using regexptokenizes  \n",
    "from sklearn.pipeline import make_pipeline # use for combining all prerocessors techniuqes and algos\n",
    "\n",
    "from PIL import Image # getting images in notebook\n",
    "from wordcloud import WordCloud, STOPWORDS, ImageColorGenerator# creates words colud\n",
    "\n",
    "from bs4 import BeautifulSoup # use for scraping the data from website\n",
    "from selenium import webdriver # use for automation chrome \n",
    "import networkx as nx # for the creation, manipulation, and study of the structure, dynamics, and functions of complex networks.\n",
    "\n",
    "import pickle# use to dump model \n",
    "\n",
    "import warnings # ignores pink warnings \n",
    "warnings.filterwarnings('ignore')"
   ]
  },
  {
   "cell_type": "code",
   "execution_count": 4,
   "metadata": {
    "execution": {
     "iopub.execute_input": "2023-11-24T01:57:46.752623Z",
     "iopub.status.busy": "2023-11-24T01:57:46.752031Z",
     "iopub.status.idle": "2023-11-24T01:57:47.579061Z",
     "shell.execute_reply": "2023-11-24T01:57:47.578554Z",
     "shell.execute_reply.started": "2023-11-24T01:38:25.669621Z"
    },
    "papermill": {
     "duration": 0.879623,
     "end_time": "2023-11-24T01:57:47.579172",
     "exception": false,
     "start_time": "2023-11-24T01:57:46.699549",
     "status": "completed"
    },
    "tags": []
   },
   "outputs": [],
   "source": [
    "# Loading the dataset\n",
    "phish_data = pd.read_csv('/kaggle/input/phishing-site-urls/phishing_site_urls.csv')"
   ]
  },
  {
   "cell_type": "code",
   "execution_count": 5,
   "metadata": {
    "execution": {
     "iopub.execute_input": "2023-11-24T01:57:47.674053Z",
     "iopub.status.busy": "2023-11-24T01:57:47.673332Z",
     "iopub.status.idle": "2023-11-24T01:57:47.684367Z",
     "shell.execute_reply": "2023-11-24T01:57:47.683695Z",
     "shell.execute_reply.started": "2023-11-24T01:38:26.560165Z"
    },
    "papermill": {
     "duration": 0.064363,
     "end_time": "2023-11-24T01:57:47.684510",
     "exception": false,
     "start_time": "2023-11-24T01:57:47.620147",
     "status": "completed"
    },
    "tags": []
   },
   "outputs": [
    {
     "data": {
      "text/html": [
       "<div>\n",
       "<style scoped>\n",
       "    .dataframe tbody tr th:only-of-type {\n",
       "        vertical-align: middle;\n",
       "    }\n",
       "\n",
       "    .dataframe tbody tr th {\n",
       "        vertical-align: top;\n",
       "    }\n",
       "\n",
       "    .dataframe thead th {\n",
       "        text-align: right;\n",
       "    }\n",
       "</style>\n",
       "<table border=\"1\" class=\"dataframe\">\n",
       "  <thead>\n",
       "    <tr style=\"text-align: right;\">\n",
       "      <th></th>\n",
       "      <th>URL</th>\n",
       "      <th>Label</th>\n",
       "    </tr>\n",
       "  </thead>\n",
       "  <tbody>\n",
       "    <tr>\n",
       "      <th>0</th>\n",
       "      <td>nobell.it/70ffb52d079109dca5664cce6f317373782/...</td>\n",
       "      <td>bad</td>\n",
       "    </tr>\n",
       "    <tr>\n",
       "      <th>1</th>\n",
       "      <td>www.dghjdgf.com/paypal.co.uk/cycgi-bin/webscrc...</td>\n",
       "      <td>bad</td>\n",
       "    </tr>\n",
       "    <tr>\n",
       "      <th>2</th>\n",
       "      <td>serviciosbys.com/paypal.cgi.bin.get-into.herf....</td>\n",
       "      <td>bad</td>\n",
       "    </tr>\n",
       "    <tr>\n",
       "      <th>3</th>\n",
       "      <td>mail.printakid.com/www.online.americanexpress....</td>\n",
       "      <td>bad</td>\n",
       "    </tr>\n",
       "    <tr>\n",
       "      <th>4</th>\n",
       "      <td>thewhiskeydregs.com/wp-content/themes/widescre...</td>\n",
       "      <td>bad</td>\n",
       "    </tr>\n",
       "  </tbody>\n",
       "</table>\n",
       "</div>"
      ],
      "text/plain": [
       "                                                 URL Label\n",
       "0  nobell.it/70ffb52d079109dca5664cce6f317373782/...   bad\n",
       "1  www.dghjdgf.com/paypal.co.uk/cycgi-bin/webscrc...   bad\n",
       "2  serviciosbys.com/paypal.cgi.bin.get-into.herf....   bad\n",
       "3  mail.printakid.com/www.online.americanexpress....   bad\n",
       "4  thewhiskeydregs.com/wp-content/themes/widescre...   bad"
      ]
     },
     "execution_count": 5,
     "metadata": {},
     "output_type": "execute_result"
    }
   ],
   "source": [
    "phish_data.head()"
   ]
  },
  {
   "cell_type": "code",
   "execution_count": 6,
   "metadata": {
    "execution": {
     "iopub.execute_input": "2023-11-24T01:57:47.782571Z",
     "iopub.status.busy": "2023-11-24T01:57:47.781706Z",
     "iopub.status.idle": "2023-11-24T01:57:47.786656Z",
     "shell.execute_reply": "2023-11-24T01:57:47.786156Z",
     "shell.execute_reply.started": "2023-11-24T01:38:26.582818Z"
    },
    "papermill": {
     "duration": 0.059511,
     "end_time": "2023-11-24T01:57:47.786786",
     "exception": false,
     "start_time": "2023-11-24T01:57:47.727275",
     "status": "completed"
    },
    "tags": []
   },
   "outputs": [
    {
     "data": {
      "text/html": [
       "<div>\n",
       "<style scoped>\n",
       "    .dataframe tbody tr th:only-of-type {\n",
       "        vertical-align: middle;\n",
       "    }\n",
       "\n",
       "    .dataframe tbody tr th {\n",
       "        vertical-align: top;\n",
       "    }\n",
       "\n",
       "    .dataframe thead th {\n",
       "        text-align: right;\n",
       "    }\n",
       "</style>\n",
       "<table border=\"1\" class=\"dataframe\">\n",
       "  <thead>\n",
       "    <tr style=\"text-align: right;\">\n",
       "      <th></th>\n",
       "      <th>URL</th>\n",
       "      <th>Label</th>\n",
       "    </tr>\n",
       "  </thead>\n",
       "  <tbody>\n",
       "    <tr>\n",
       "      <th>549341</th>\n",
       "      <td>23.227.196.215/</td>\n",
       "      <td>bad</td>\n",
       "    </tr>\n",
       "    <tr>\n",
       "      <th>549342</th>\n",
       "      <td>apple-checker.org/</td>\n",
       "      <td>bad</td>\n",
       "    </tr>\n",
       "    <tr>\n",
       "      <th>549343</th>\n",
       "      <td>apple-iclods.org/</td>\n",
       "      <td>bad</td>\n",
       "    </tr>\n",
       "    <tr>\n",
       "      <th>549344</th>\n",
       "      <td>apple-uptoday.org/</td>\n",
       "      <td>bad</td>\n",
       "    </tr>\n",
       "    <tr>\n",
       "      <th>549345</th>\n",
       "      <td>apple-search.info</td>\n",
       "      <td>bad</td>\n",
       "    </tr>\n",
       "  </tbody>\n",
       "</table>\n",
       "</div>"
      ],
      "text/plain": [
       "                       URL Label\n",
       "549341     23.227.196.215/   bad\n",
       "549342  apple-checker.org/   bad\n",
       "549343   apple-iclods.org/   bad\n",
       "549344  apple-uptoday.org/   bad\n",
       "549345   apple-search.info   bad"
      ]
     },
     "execution_count": 6,
     "metadata": {},
     "output_type": "execute_result"
    }
   ],
   "source": [
    "phish_data.tail()"
   ]
  },
  {
   "cell_type": "code",
   "execution_count": 7,
   "metadata": {
    "execution": {
     "iopub.execute_input": "2023-11-24T01:57:47.922026Z",
     "iopub.status.busy": "2023-11-24T01:57:47.921307Z",
     "iopub.status.idle": "2023-11-24T01:57:47.933948Z",
     "shell.execute_reply": "2023-11-24T01:57:47.933324Z",
     "shell.execute_reply.started": "2023-11-24T01:38:26.599816Z"
    },
    "papermill": {
     "duration": 0.104348,
     "end_time": "2023-11-24T01:57:47.934081",
     "exception": false,
     "start_time": "2023-11-24T01:57:47.829733",
     "status": "completed"
    },
    "tags": []
   },
   "outputs": [
    {
     "name": "stdout",
     "output_type": "stream",
     "text": [
      "<class 'pandas.core.frame.DataFrame'>\n",
      "RangeIndex: 549346 entries, 0 to 549345\n",
      "Data columns (total 2 columns):\n",
      " #   Column  Non-Null Count   Dtype \n",
      "---  ------  --------------   ----- \n",
      " 0   URL     549346 non-null  object\n",
      " 1   Label   549346 non-null  object\n",
      "dtypes: object(2)\n",
      "memory usage: 8.4+ MB\n"
     ]
    }
   ],
   "source": [
    "phish_data.info()"
   ]
  },
  {
   "cell_type": "code",
   "execution_count": 8,
   "metadata": {
    "execution": {
     "iopub.execute_input": "2023-11-24T01:57:48.070911Z",
     "iopub.status.busy": "2023-11-24T01:57:48.070045Z",
     "iopub.status.idle": "2023-11-24T01:57:48.078289Z",
     "shell.execute_reply": "2023-11-24T01:57:48.078801Z",
     "shell.execute_reply.started": "2023-11-24T01:38:26.743621Z"
    },
    "papermill": {
     "duration": 0.101847,
     "end_time": "2023-11-24T01:57:48.078958",
     "exception": false,
     "start_time": "2023-11-24T01:57:47.977111",
     "status": "completed"
    },
    "tags": []
   },
   "outputs": [
    {
     "data": {
      "text/plain": [
       "URL      0\n",
       "Label    0\n",
       "dtype: int64"
      ]
     },
     "execution_count": 8,
     "metadata": {},
     "output_type": "execute_result"
    }
   ],
   "source": [
    "phish_data.isnull().sum() # there is no missing values"
   ]
  },
  {
   "cell_type": "code",
   "execution_count": 9,
   "metadata": {
    "execution": {
     "iopub.execute_input": "2023-11-24T01:57:48.209963Z",
     "iopub.status.busy": "2023-11-24T01:57:48.192405Z",
     "iopub.status.idle": "2023-11-24T01:57:48.216029Z",
     "shell.execute_reply": "2023-11-24T01:57:48.215391Z",
     "shell.execute_reply.started": "2023-11-24T01:38:26.882776Z"
    },
    "papermill": {
     "duration": 0.094085,
     "end_time": "2023-11-24T01:57:48.216147",
     "exception": false,
     "start_time": "2023-11-24T01:57:48.122062",
     "status": "completed"
    },
    "tags": []
   },
   "outputs": [],
   "source": [
    "#create a dataframe of classes counts\n",
    "label_counts = pd.DataFrame(phish_data.Label.value_counts())"
   ]
  },
  {
   "cell_type": "code",
   "execution_count": 10,
   "metadata": {
    "execution": {
     "iopub.execute_input": "2023-11-24T01:57:48.306344Z",
     "iopub.status.busy": "2023-11-24T01:57:48.305255Z",
     "iopub.status.idle": "2023-11-24T01:57:49.167093Z",
     "shell.execute_reply": "2023-11-24T01:57:49.166540Z",
     "shell.execute_reply.started": "2023-11-24T01:38:27.035852Z"
    },
    "papermill": {
     "duration": 0.909125,
     "end_time": "2023-11-24T01:57:49.167237",
     "exception": false,
     "start_time": "2023-11-24T01:57:48.258112",
     "status": "completed"
    },
    "tags": []
   },
   "outputs": [
    {
     "data": {
      "text/html": [
       "        <script type=\"text/javascript\">\n",
       "        window.PlotlyConfig = {MathJaxConfig: 'local'};\n",
       "        if (window.MathJax) {MathJax.Hub.Config({SVG: {font: \"STIX-Web\"}});}\n",
       "        if (typeof require !== 'undefined') {\n",
       "        require.undef(\"plotly\");\n",
       "        requirejs.config({\n",
       "            paths: {\n",
       "                'plotly': ['https://cdn.plot.ly/plotly-latest.min']\n",
       "            }\n",
       "        });\n",
       "        require(['plotly'], function(Plotly) {\n",
       "            window._Plotly = Plotly;\n",
       "        });\n",
       "        }\n",
       "        </script>\n",
       "        "
      ]
     },
     "metadata": {},
     "output_type": "display_data"
    },
    {
     "data": {
      "text/html": [
       "<div>\n",
       "        \n",
       "        \n",
       "            <div id=\"074ac534-8928-4d01-b952-a2e2d8d8f9a0\" class=\"plotly-graph-div\" style=\"height:525px; width:100%;\"></div>\n",
       "            <script type=\"text/javascript\">\n",
       "                require([\"plotly\"], function(Plotly) {\n",
       "                    window.PLOTLYENV=window.PLOTLYENV || {};\n",
       "                    \n",
       "                if (document.getElementById(\"074ac534-8928-4d01-b952-a2e2d8d8f9a0\")) {\n",
       "                    Plotly.newPlot(\n",
       "                        '074ac534-8928-4d01-b952-a2e2d8d8f9a0',\n",
       "                        [{\"alignmentgroup\": \"True\", \"hovertemplate\": \"index=%{x}<br>Label=%{y}<extra></extra>\", \"legendgroup\": \"\", \"marker\": {\"color\": \"#636efa\"}, \"name\": \"\", \"offsetgroup\": \"\", \"orientation\": \"v\", \"showlegend\": false, \"textposition\": \"auto\", \"type\": \"bar\", \"x\": [\"good\", \"bad\"], \"xaxis\": \"x\", \"y\": [392924, 156422], \"yaxis\": \"y\"}],\n",
       "                        {\"barmode\": \"relative\", \"legend\": {\"tracegroupgap\": 0}, \"margin\": {\"t\": 60}, \"template\": {\"data\": {\"bar\": [{\"error_x\": {\"color\": \"#2a3f5f\"}, \"error_y\": {\"color\": \"#2a3f5f\"}, \"marker\": {\"line\": {\"color\": \"#E5ECF6\", \"width\": 0.5}}, \"type\": \"bar\"}], \"barpolar\": [{\"marker\": {\"line\": {\"color\": \"#E5ECF6\", \"width\": 0.5}}, \"type\": \"barpolar\"}], \"carpet\": [{\"aaxis\": {\"endlinecolor\": \"#2a3f5f\", \"gridcolor\": \"white\", \"linecolor\": \"white\", \"minorgridcolor\": \"white\", \"startlinecolor\": \"#2a3f5f\"}, \"baxis\": {\"endlinecolor\": \"#2a3f5f\", \"gridcolor\": \"white\", \"linecolor\": \"white\", \"minorgridcolor\": \"white\", \"startlinecolor\": \"#2a3f5f\"}, \"type\": \"carpet\"}], \"choropleth\": [{\"colorbar\": {\"outlinewidth\": 0, \"ticks\": \"\"}, \"type\": \"choropleth\"}], \"contour\": [{\"colorbar\": {\"outlinewidth\": 0, \"ticks\": \"\"}, \"colorscale\": [[0.0, \"#0d0887\"], [0.1111111111111111, \"#46039f\"], [0.2222222222222222, \"#7201a8\"], [0.3333333333333333, \"#9c179e\"], [0.4444444444444444, \"#bd3786\"], [0.5555555555555556, \"#d8576b\"], [0.6666666666666666, \"#ed7953\"], [0.7777777777777778, \"#fb9f3a\"], [0.8888888888888888, \"#fdca26\"], [1.0, \"#f0f921\"]], \"type\": \"contour\"}], \"contourcarpet\": [{\"colorbar\": {\"outlinewidth\": 0, \"ticks\": \"\"}, \"type\": \"contourcarpet\"}], \"heatmap\": [{\"colorbar\": {\"outlinewidth\": 0, \"ticks\": \"\"}, \"colorscale\": [[0.0, \"#0d0887\"], [0.1111111111111111, \"#46039f\"], [0.2222222222222222, \"#7201a8\"], [0.3333333333333333, \"#9c179e\"], [0.4444444444444444, \"#bd3786\"], [0.5555555555555556, \"#d8576b\"], [0.6666666666666666, \"#ed7953\"], [0.7777777777777778, \"#fb9f3a\"], [0.8888888888888888, \"#fdca26\"], [1.0, \"#f0f921\"]], \"type\": \"heatmap\"}], \"heatmapgl\": [{\"colorbar\": {\"outlinewidth\": 0, \"ticks\": \"\"}, \"colorscale\": [[0.0, \"#0d0887\"], [0.1111111111111111, \"#46039f\"], [0.2222222222222222, \"#7201a8\"], [0.3333333333333333, \"#9c179e\"], [0.4444444444444444, \"#bd3786\"], [0.5555555555555556, \"#d8576b\"], [0.6666666666666666, \"#ed7953\"], [0.7777777777777778, \"#fb9f3a\"], [0.8888888888888888, \"#fdca26\"], [1.0, \"#f0f921\"]], \"type\": \"heatmapgl\"}], \"histogram\": [{\"marker\": {\"colorbar\": {\"outlinewidth\": 0, \"ticks\": \"\"}}, \"type\": \"histogram\"}], \"histogram2d\": [{\"colorbar\": {\"outlinewidth\": 0, \"ticks\": \"\"}, \"colorscale\": [[0.0, \"#0d0887\"], [0.1111111111111111, \"#46039f\"], [0.2222222222222222, \"#7201a8\"], [0.3333333333333333, \"#9c179e\"], [0.4444444444444444, \"#bd3786\"], [0.5555555555555556, \"#d8576b\"], [0.6666666666666666, \"#ed7953\"], [0.7777777777777778, \"#fb9f3a\"], [0.8888888888888888, \"#fdca26\"], [1.0, \"#f0f921\"]], \"type\": \"histogram2d\"}], \"histogram2dcontour\": [{\"colorbar\": {\"outlinewidth\": 0, \"ticks\": \"\"}, \"colorscale\": [[0.0, \"#0d0887\"], [0.1111111111111111, \"#46039f\"], [0.2222222222222222, \"#7201a8\"], [0.3333333333333333, \"#9c179e\"], [0.4444444444444444, \"#bd3786\"], [0.5555555555555556, \"#d8576b\"], [0.6666666666666666, \"#ed7953\"], [0.7777777777777778, \"#fb9f3a\"], [0.8888888888888888, \"#fdca26\"], [1.0, \"#f0f921\"]], \"type\": \"histogram2dcontour\"}], \"mesh3d\": [{\"colorbar\": {\"outlinewidth\": 0, \"ticks\": \"\"}, \"type\": \"mesh3d\"}], \"parcoords\": [{\"line\": {\"colorbar\": {\"outlinewidth\": 0, \"ticks\": \"\"}}, \"type\": \"parcoords\"}], \"pie\": [{\"automargin\": true, \"type\": \"pie\"}], \"scatter\": [{\"marker\": {\"colorbar\": {\"outlinewidth\": 0, \"ticks\": \"\"}}, \"type\": \"scatter\"}], \"scatter3d\": [{\"line\": {\"colorbar\": {\"outlinewidth\": 0, \"ticks\": \"\"}}, \"marker\": {\"colorbar\": {\"outlinewidth\": 0, \"ticks\": \"\"}}, \"type\": \"scatter3d\"}], \"scattercarpet\": [{\"marker\": {\"colorbar\": {\"outlinewidth\": 0, \"ticks\": \"\"}}, \"type\": \"scattercarpet\"}], \"scattergeo\": [{\"marker\": {\"colorbar\": {\"outlinewidth\": 0, \"ticks\": \"\"}}, \"type\": \"scattergeo\"}], \"scattergl\": [{\"marker\": {\"colorbar\": {\"outlinewidth\": 0, \"ticks\": \"\"}}, \"type\": \"scattergl\"}], \"scattermapbox\": [{\"marker\": {\"colorbar\": {\"outlinewidth\": 0, \"ticks\": \"\"}}, \"type\": \"scattermapbox\"}], \"scatterpolar\": [{\"marker\": {\"colorbar\": {\"outlinewidth\": 0, \"ticks\": \"\"}}, \"type\": \"scatterpolar\"}], \"scatterpolargl\": [{\"marker\": {\"colorbar\": {\"outlinewidth\": 0, \"ticks\": \"\"}}, \"type\": \"scatterpolargl\"}], \"scatterternary\": [{\"marker\": {\"colorbar\": {\"outlinewidth\": 0, \"ticks\": \"\"}}, \"type\": \"scatterternary\"}], \"surface\": [{\"colorbar\": {\"outlinewidth\": 0, \"ticks\": \"\"}, \"colorscale\": [[0.0, \"#0d0887\"], [0.1111111111111111, \"#46039f\"], [0.2222222222222222, \"#7201a8\"], [0.3333333333333333, \"#9c179e\"], [0.4444444444444444, \"#bd3786\"], [0.5555555555555556, \"#d8576b\"], [0.6666666666666666, \"#ed7953\"], [0.7777777777777778, \"#fb9f3a\"], [0.8888888888888888, \"#fdca26\"], [1.0, \"#f0f921\"]], \"type\": \"surface\"}], \"table\": [{\"cells\": {\"fill\": {\"color\": \"#EBF0F8\"}, \"line\": {\"color\": \"white\"}}, \"header\": {\"fill\": {\"color\": \"#C8D4E3\"}, \"line\": {\"color\": \"white\"}}, \"type\": \"table\"}]}, \"layout\": {\"annotationdefaults\": {\"arrowcolor\": \"#2a3f5f\", \"arrowhead\": 0, \"arrowwidth\": 1}, \"coloraxis\": {\"colorbar\": {\"outlinewidth\": 0, \"ticks\": \"\"}}, \"colorscale\": {\"diverging\": [[0, \"#8e0152\"], [0.1, \"#c51b7d\"], [0.2, \"#de77ae\"], [0.3, \"#f1b6da\"], [0.4, \"#fde0ef\"], [0.5, \"#f7f7f7\"], [0.6, \"#e6f5d0\"], [0.7, \"#b8e186\"], [0.8, \"#7fbc41\"], [0.9, \"#4d9221\"], [1, \"#276419\"]], \"sequential\": [[0.0, \"#0d0887\"], [0.1111111111111111, \"#46039f\"], [0.2222222222222222, \"#7201a8\"], [0.3333333333333333, \"#9c179e\"], [0.4444444444444444, \"#bd3786\"], [0.5555555555555556, \"#d8576b\"], [0.6666666666666666, \"#ed7953\"], [0.7777777777777778, \"#fb9f3a\"], [0.8888888888888888, \"#fdca26\"], [1.0, \"#f0f921\"]], \"sequentialminus\": [[0.0, \"#0d0887\"], [0.1111111111111111, \"#46039f\"], [0.2222222222222222, \"#7201a8\"], [0.3333333333333333, \"#9c179e\"], [0.4444444444444444, \"#bd3786\"], [0.5555555555555556, \"#d8576b\"], [0.6666666666666666, \"#ed7953\"], [0.7777777777777778, \"#fb9f3a\"], [0.8888888888888888, \"#fdca26\"], [1.0, \"#f0f921\"]]}, \"colorway\": [\"#636efa\", \"#EF553B\", \"#00cc96\", \"#ab63fa\", \"#FFA15A\", \"#19d3f3\", \"#FF6692\", \"#B6E880\", \"#FF97FF\", \"#FECB52\"], \"font\": {\"color\": \"#2a3f5f\"}, \"geo\": {\"bgcolor\": \"white\", \"lakecolor\": \"white\", \"landcolor\": \"#E5ECF6\", \"showlakes\": true, \"showland\": true, \"subunitcolor\": \"white\"}, \"hoverlabel\": {\"align\": \"left\"}, \"hovermode\": \"closest\", \"mapbox\": {\"style\": \"light\"}, \"paper_bgcolor\": \"white\", \"plot_bgcolor\": \"#E5ECF6\", \"polar\": {\"angularaxis\": {\"gridcolor\": \"white\", \"linecolor\": \"white\", \"ticks\": \"\"}, \"bgcolor\": \"#E5ECF6\", \"radialaxis\": {\"gridcolor\": \"white\", \"linecolor\": \"white\", \"ticks\": \"\"}}, \"scene\": {\"xaxis\": {\"backgroundcolor\": \"#E5ECF6\", \"gridcolor\": \"white\", \"gridwidth\": 2, \"linecolor\": \"white\", \"showbackground\": true, \"ticks\": \"\", \"zerolinecolor\": \"white\"}, \"yaxis\": {\"backgroundcolor\": \"#E5ECF6\", \"gridcolor\": \"white\", \"gridwidth\": 2, \"linecolor\": \"white\", \"showbackground\": true, \"ticks\": \"\", \"zerolinecolor\": \"white\"}, \"zaxis\": {\"backgroundcolor\": \"#E5ECF6\", \"gridcolor\": \"white\", \"gridwidth\": 2, \"linecolor\": \"white\", \"showbackground\": true, \"ticks\": \"\", \"zerolinecolor\": \"white\"}}, \"shapedefaults\": {\"line\": {\"color\": \"#2a3f5f\"}}, \"ternary\": {\"aaxis\": {\"gridcolor\": \"white\", \"linecolor\": \"white\", \"ticks\": \"\"}, \"baxis\": {\"gridcolor\": \"white\", \"linecolor\": \"white\", \"ticks\": \"\"}, \"bgcolor\": \"#E5ECF6\", \"caxis\": {\"gridcolor\": \"white\", \"linecolor\": \"white\", \"ticks\": \"\"}}, \"title\": {\"x\": 0.05}, \"xaxis\": {\"automargin\": true, \"gridcolor\": \"white\", \"linecolor\": \"white\", \"ticks\": \"\", \"title\": {\"standoff\": 15}, \"zerolinecolor\": \"white\", \"zerolinewidth\": 2}, \"yaxis\": {\"automargin\": true, \"gridcolor\": \"white\", \"linecolor\": \"white\", \"ticks\": \"\", \"title\": {\"standoff\": 15}, \"zerolinecolor\": \"white\", \"zerolinewidth\": 2}}}, \"xaxis\": {\"anchor\": \"y\", \"domain\": [0.0, 1.0], \"title\": {\"text\": \"index\"}}, \"yaxis\": {\"anchor\": \"x\", \"domain\": [0.0, 1.0], \"title\": {\"text\": \"Label\"}}},\n",
       "                        {\"responsive\": true}\n",
       "                    ).then(function(){\n",
       "                            \n",
       "var gd = document.getElementById('074ac534-8928-4d01-b952-a2e2d8d8f9a0');\n",
       "var x = new MutationObserver(function (mutations, observer) {{\n",
       "        var display = window.getComputedStyle(gd).display;\n",
       "        if (!display || display === 'none') {{\n",
       "            console.log([gd, 'removed!']);\n",
       "            Plotly.purge(gd);\n",
       "            observer.disconnect();\n",
       "        }}\n",
       "}});\n",
       "\n",
       "// Listen for the removal of the full notebook cells\n",
       "var notebookContainer = gd.closest('#notebook-container');\n",
       "if (notebookContainer) {{\n",
       "    x.observe(notebookContainer, {childList: true});\n",
       "}}\n",
       "\n",
       "// Listen for the clearing of the current output cell\n",
       "var outputEl = gd.closest('.output');\n",
       "if (outputEl) {{\n",
       "    x.observe(outputEl, {childList: true});\n",
       "}}\n",
       "\n",
       "                        })\n",
       "                };\n",
       "                });\n",
       "            </script>\n",
       "        </div>"
      ]
     },
     "metadata": {},
     "output_type": "display_data"
    }
   ],
   "source": [
    "#visualizing target_col\n",
    "fig = px.bar(label_counts, x=label_counts.index, y=label_counts.Label)\n",
    "fig.show()"
   ]
  },
  {
   "cell_type": "code",
   "execution_count": 11,
   "metadata": {
    "execution": {
     "iopub.execute_input": "2023-11-24T01:57:49.259001Z",
     "iopub.status.busy": "2023-11-24T01:57:49.258402Z",
     "iopub.status.idle": "2023-11-24T01:57:49.261314Z",
     "shell.execute_reply": "2023-11-24T01:57:49.260813Z",
     "shell.execute_reply.started": "2023-11-24T01:38:27.118345Z"
    },
    "papermill": {
     "duration": 0.050605,
     "end_time": "2023-11-24T01:57:49.261423",
     "exception": false,
     "start_time": "2023-11-24T01:57:49.210818",
     "status": "completed"
    },
    "tags": []
   },
   "outputs": [],
   "source": [
    "tokenizer = RegexpTokenizer(r'[A-Za-z]+')#to getting alpha only"
   ]
  },
  {
   "cell_type": "code",
   "execution_count": 12,
   "metadata": {
    "execution": {
     "iopub.execute_input": "2023-11-24T01:57:49.349850Z",
     "iopub.status.busy": "2023-11-24T01:57:49.349301Z",
     "iopub.status.idle": "2023-11-24T01:57:49.370555Z",
     "shell.execute_reply": "2023-11-24T01:57:49.371065Z",
     "shell.execute_reply.started": "2023-11-24T01:38:27.129155Z"
    },
    "papermill": {
     "duration": 0.067236,
     "end_time": "2023-11-24T01:57:49.371211",
     "exception": false,
     "start_time": "2023-11-24T01:57:49.303975",
     "status": "completed"
    },
    "tags": []
   },
   "outputs": [
    {
     "data": {
      "text/plain": [
       "'nobell.it/70ffb52d079109dca5664cce6f317373782/login.SkyPe.com/en/cgi-bin/verification/login/70ffb52d079109dca5664cce6f317373/index.php?cmd=_profile-ach&outdated_page_tmpl=p/gen/failed-to-load&nav=0.5.1&login_access=1322408526'"
      ]
     },
     "execution_count": 12,
     "metadata": {},
     "output_type": "execute_result"
    }
   ],
   "source": [
    "phish_data.URL[0]"
   ]
  },
  {
   "cell_type": "code",
   "execution_count": 13,
   "metadata": {
    "execution": {
     "iopub.execute_input": "2023-11-24T01:57:49.467685Z",
     "iopub.status.busy": "2023-11-24T01:57:49.467030Z",
     "iopub.status.idle": "2023-11-24T01:57:49.469333Z",
     "shell.execute_reply": "2023-11-24T01:57:49.469858Z",
     "shell.execute_reply.started": "2023-11-24T01:38:27.159713Z"
    },
    "papermill": {
     "duration": 0.053921,
     "end_time": "2023-11-24T01:57:49.470006",
     "exception": false,
     "start_time": "2023-11-24T01:57:49.416085",
     "status": "completed"
    },
    "tags": []
   },
   "outputs": [
    {
     "data": {
      "text/plain": [
       "['nobell',\n",
       " 'it',\n",
       " 'ffb',\n",
       " 'd',\n",
       " 'dca',\n",
       " 'cce',\n",
       " 'f',\n",
       " 'login',\n",
       " 'SkyPe',\n",
       " 'com',\n",
       " 'en',\n",
       " 'cgi',\n",
       " 'bin',\n",
       " 'verification',\n",
       " 'login',\n",
       " 'ffb',\n",
       " 'd',\n",
       " 'dca',\n",
       " 'cce',\n",
       " 'f',\n",
       " 'index',\n",
       " 'php',\n",
       " 'cmd',\n",
       " 'profile',\n",
       " 'ach',\n",
       " 'outdated',\n",
       " 'page',\n",
       " 'tmpl',\n",
       " 'p',\n",
       " 'gen',\n",
       " 'failed',\n",
       " 'to',\n",
       " 'load',\n",
       " 'nav',\n",
       " 'login',\n",
       " 'access']"
      ]
     },
     "execution_count": 13,
     "metadata": {},
     "output_type": "execute_result"
    }
   ],
   "source": [
    "# this will be pull letter which matches to expression\n",
    "tokenizer.tokenize(phish_data.URL[0]) # using first row"
   ]
  },
  {
   "cell_type": "code",
   "execution_count": 14,
   "metadata": {
    "execution": {
     "iopub.execute_input": "2023-11-24T01:57:49.564255Z",
     "iopub.status.busy": "2023-11-24T01:57:49.563723Z",
     "iopub.status.idle": "2023-11-24T01:57:51.908223Z",
     "shell.execute_reply": "2023-11-24T01:57:51.907674Z",
     "shell.execute_reply.started": "2023-11-24T01:38:27.171461Z"
    },
    "papermill": {
     "duration": 2.394559,
     "end_time": "2023-11-24T01:57:51.908325",
     "exception": false,
     "start_time": "2023-11-24T01:57:49.513766",
     "status": "completed"
    },
    "tags": []
   },
   "outputs": [
    {
     "name": "stdout",
     "output_type": "stream",
     "text": [
      "Getting words tokenized ...\n",
      "Time taken 2.33963176799989 sec\n"
     ]
    }
   ],
   "source": [
    "print('Getting words tokenized ...')\n",
    "t0= time.perf_counter()\n",
    "phish_data['text_tokenized'] = phish_data.URL.map(lambda t: tokenizer.tokenize(t)) # doing with all rows\n",
    "t1 = time.perf_counter() - t0\n",
    "print('Time taken',t1 ,'sec')"
   ]
  },
  {
   "cell_type": "code",
   "execution_count": 15,
   "metadata": {
    "execution": {
     "iopub.execute_input": "2023-11-24T01:57:52.001590Z",
     "iopub.status.busy": "2023-11-24T01:57:52.000950Z",
     "iopub.status.idle": "2023-11-24T01:57:52.099163Z",
     "shell.execute_reply": "2023-11-24T01:57:52.099605Z",
     "shell.execute_reply.started": "2023-11-24T01:38:31.563877Z"
    },
    "papermill": {
     "duration": 0.146644,
     "end_time": "2023-11-24T01:57:52.099749",
     "exception": false,
     "start_time": "2023-11-24T01:57:51.953105",
     "status": "completed"
    },
    "tags": []
   },
   "outputs": [
    {
     "data": {
      "text/html": [
       "<div>\n",
       "<style scoped>\n",
       "    .dataframe tbody tr th:only-of-type {\n",
       "        vertical-align: middle;\n",
       "    }\n",
       "\n",
       "    .dataframe tbody tr th {\n",
       "        vertical-align: top;\n",
       "    }\n",
       "\n",
       "    .dataframe thead th {\n",
       "        text-align: right;\n",
       "    }\n",
       "</style>\n",
       "<table border=\"1\" class=\"dataframe\">\n",
       "  <thead>\n",
       "    <tr style=\"text-align: right;\">\n",
       "      <th></th>\n",
       "      <th>URL</th>\n",
       "      <th>Label</th>\n",
       "      <th>text_tokenized</th>\n",
       "    </tr>\n",
       "  </thead>\n",
       "  <tbody>\n",
       "    <tr>\n",
       "      <th>156118</th>\n",
       "      <td>canadiens.nhl.com/club/news.htm?id=516790</td>\n",
       "      <td>good</td>\n",
       "      <td>[canadiens, nhl, com, club, news, htm, id]</td>\n",
       "    </tr>\n",
       "    <tr>\n",
       "      <th>140303</th>\n",
       "      <td>acronyms.thefreedictionary.com/Linda+Hall+Library</td>\n",
       "      <td>good</td>\n",
       "      <td>[acronyms, thefreedictionary, com, Linda, Hall...</td>\n",
       "    </tr>\n",
       "    <tr>\n",
       "      <th>453789</th>\n",
       "      <td>tvguide.com/celebrities/paul-schoeffler/262593</td>\n",
       "      <td>good</td>\n",
       "      <td>[tvguide, com, celebrities, paul, schoeffler]</td>\n",
       "    </tr>\n",
       "    <tr>\n",
       "      <th>19619</th>\n",
       "      <td>www.surveytool.com/s/SED512AF19</td>\n",
       "      <td>bad</td>\n",
       "      <td>[www, surveytool, com, s, SED, AF]</td>\n",
       "    </tr>\n",
       "    <tr>\n",
       "      <th>158987</th>\n",
       "      <td>clarksclassicflyrodforum.yuku.com/topic/45700/...</td>\n",
       "      <td>good</td>\n",
       "      <td>[clarksclassicflyrodforum, yuku, com, topic, A...</td>\n",
       "    </tr>\n",
       "  </tbody>\n",
       "</table>\n",
       "</div>"
      ],
      "text/plain": [
       "                                                      URL Label  \\\n",
       "156118          canadiens.nhl.com/club/news.htm?id=516790  good   \n",
       "140303  acronyms.thefreedictionary.com/Linda+Hall+Library  good   \n",
       "453789     tvguide.com/celebrities/paul-schoeffler/262593  good   \n",
       "19619                     www.surveytool.com/s/SED512AF19   bad   \n",
       "158987  clarksclassicflyrodforum.yuku.com/topic/45700/...  good   \n",
       "\n",
       "                                           text_tokenized  \n",
       "156118         [canadiens, nhl, com, club, news, htm, id]  \n",
       "140303  [acronyms, thefreedictionary, com, Linda, Hall...  \n",
       "453789      [tvguide, com, celebrities, paul, schoeffler]  \n",
       "19619                  [www, surveytool, com, s, SED, AF]  \n",
       "158987  [clarksclassicflyrodforum, yuku, com, topic, A...  "
      ]
     },
     "execution_count": 15,
     "metadata": {},
     "output_type": "execute_result"
    }
   ],
   "source": [
    "phish_data.sample(5)"
   ]
  },
  {
   "cell_type": "code",
   "execution_count": 16,
   "metadata": {
    "execution": {
     "iopub.execute_input": "2023-11-24T01:57:52.192832Z",
     "iopub.status.busy": "2023-11-24T01:57:52.192255Z",
     "iopub.status.idle": "2023-11-24T01:57:52.197423Z",
     "shell.execute_reply": "2023-11-24T01:57:52.197961Z",
     "shell.execute_reply.started": "2023-11-24T01:38:31.694751Z"
    },
    "papermill": {
     "duration": 0.053826,
     "end_time": "2023-11-24T01:57:52.198084",
     "exception": false,
     "start_time": "2023-11-24T01:57:52.144258",
     "status": "completed"
    },
    "tags": []
   },
   "outputs": [],
   "source": [
    "stemmer = SnowballStemmer(\"english\") # choose a language"
   ]
  },
  {
   "cell_type": "code",
   "execution_count": 17,
   "metadata": {
    "execution": {
     "iopub.execute_input": "2023-11-24T01:57:52.290673Z",
     "iopub.status.busy": "2023-11-24T01:57:52.290101Z",
     "iopub.status.idle": "2023-11-24T01:58:40.092660Z",
     "shell.execute_reply": "2023-11-24T01:58:40.093083Z",
     "shell.execute_reply.started": "2023-11-24T01:38:31.702169Z"
    },
    "papermill": {
     "duration": 47.849763,
     "end_time": "2023-11-24T01:58:40.093207",
     "exception": false,
     "start_time": "2023-11-24T01:57:52.243444",
     "status": "completed"
    },
    "tags": []
   },
   "outputs": [
    {
     "name": "stdout",
     "output_type": "stream",
     "text": [
      "Getting words stemmed ...\n",
      "Time taken 47.75089200100001 sec\n"
     ]
    }
   ],
   "source": [
    "print('Getting words stemmed ...')\n",
    "t0= time.perf_counter()\n",
    "phish_data['text_stemmed'] = phish_data['text_tokenized'].map(lambda l: [stemmer.stem(word) for word in l])\n",
    "t1= time.perf_counter() - t0\n",
    "print('Time taken',t1 ,'sec')"
   ]
  },
  {
   "cell_type": "code",
   "execution_count": 18,
   "metadata": {
    "execution": {
     "iopub.execute_input": "2023-11-24T01:58:40.187827Z",
     "iopub.status.busy": "2023-11-24T01:58:40.187085Z",
     "iopub.status.idle": "2023-11-24T01:58:40.332814Z",
     "shell.execute_reply": "2023-11-24T01:58:40.333187Z",
     "shell.execute_reply.started": "2023-11-24T01:39:53.892427Z"
    },
    "papermill": {
     "duration": 0.196031,
     "end_time": "2023-11-24T01:58:40.333333",
     "exception": false,
     "start_time": "2023-11-24T01:58:40.137302",
     "status": "completed"
    },
    "tags": []
   },
   "outputs": [
    {
     "data": {
      "text/html": [
       "<div>\n",
       "<style scoped>\n",
       "    .dataframe tbody tr th:only-of-type {\n",
       "        vertical-align: middle;\n",
       "    }\n",
       "\n",
       "    .dataframe tbody tr th {\n",
       "        vertical-align: top;\n",
       "    }\n",
       "\n",
       "    .dataframe thead th {\n",
       "        text-align: right;\n",
       "    }\n",
       "</style>\n",
       "<table border=\"1\" class=\"dataframe\">\n",
       "  <thead>\n",
       "    <tr style=\"text-align: right;\">\n",
       "      <th></th>\n",
       "      <th>URL</th>\n",
       "      <th>Label</th>\n",
       "      <th>text_tokenized</th>\n",
       "      <th>text_stemmed</th>\n",
       "    </tr>\n",
       "  </thead>\n",
       "  <tbody>\n",
       "    <tr>\n",
       "      <th>291239</th>\n",
       "      <td>bigten.org/sports/m-soccer/spec-rel/091310aab....</td>\n",
       "      <td>good</td>\n",
       "      <td>[bigten, org, sports, m, soccer, spec, rel, aa...</td>\n",
       "      <td>[bigten, org, sport, m, soccer, spec, rel, aab...</td>\n",
       "    </tr>\n",
       "    <tr>\n",
       "      <th>82036</th>\n",
       "      <td>users.tpg.com.au/pws/</td>\n",
       "      <td>good</td>\n",
       "      <td>[users, tpg, com, au, pws]</td>\n",
       "      <td>[user, tpg, com, au, pws]</td>\n",
       "    </tr>\n",
       "    <tr>\n",
       "      <th>183303</th>\n",
       "      <td>encyclopedia2.thefreedictionary.com/neo-schola...</td>\n",
       "      <td>good</td>\n",
       "      <td>[encyclopedia, thefreedictionary, com, neo, sc...</td>\n",
       "      <td>[encyclopedia, thefreedictionari, com, neo, sc...</td>\n",
       "    </tr>\n",
       "    <tr>\n",
       "      <th>64101</th>\n",
       "      <td>yro.slashdot.org/article.pl?sid=02/01/31/2119213</td>\n",
       "      <td>good</td>\n",
       "      <td>[yro, slashdot, org, article, pl, sid]</td>\n",
       "      <td>[yro, slashdot, org, articl, pl, sid]</td>\n",
       "    </tr>\n",
       "    <tr>\n",
       "      <th>244252</th>\n",
       "      <td>stuffaboutnames.com/rudy/index.htm</td>\n",
       "      <td>good</td>\n",
       "      <td>[stuffaboutnames, com, rudy, index, htm]</td>\n",
       "      <td>[stuffaboutnam, com, rudi, index, htm]</td>\n",
       "    </tr>\n",
       "  </tbody>\n",
       "</table>\n",
       "</div>"
      ],
      "text/plain": [
       "                                                      URL Label  \\\n",
       "291239  bigten.org/sports/m-soccer/spec-rel/091310aab....  good   \n",
       "82036                               users.tpg.com.au/pws/  good   \n",
       "183303  encyclopedia2.thefreedictionary.com/neo-schola...  good   \n",
       "64101    yro.slashdot.org/article.pl?sid=02/01/31/2119213  good   \n",
       "244252                 stuffaboutnames.com/rudy/index.htm  good   \n",
       "\n",
       "                                           text_tokenized  \\\n",
       "291239  [bigten, org, sports, m, soccer, spec, rel, aa...   \n",
       "82036                          [users, tpg, com, au, pws]   \n",
       "183303  [encyclopedia, thefreedictionary, com, neo, sc...   \n",
       "64101              [yro, slashdot, org, article, pl, sid]   \n",
       "244252           [stuffaboutnames, com, rudy, index, htm]   \n",
       "\n",
       "                                             text_stemmed  \n",
       "291239  [bigten, org, sport, m, soccer, spec, rel, aab...  \n",
       "82036                           [user, tpg, com, au, pws]  \n",
       "183303  [encyclopedia, thefreedictionari, com, neo, sc...  \n",
       "64101               [yro, slashdot, org, articl, pl, sid]  \n",
       "244252             [stuffaboutnam, com, rudi, index, htm]  "
      ]
     },
     "execution_count": 18,
     "metadata": {},
     "output_type": "execute_result"
    }
   ],
   "source": [
    "phish_data.sample(5)"
   ]
  },
  {
   "cell_type": "code",
   "execution_count": 19,
   "metadata": {
    "execution": {
     "iopub.execute_input": "2023-11-24T01:58:40.430322Z",
     "iopub.status.busy": "2023-11-24T01:58:40.429587Z",
     "iopub.status.idle": "2023-11-24T01:58:40.697885Z",
     "shell.execute_reply": "2023-11-24T01:58:40.698415Z",
     "shell.execute_reply.started": "2023-11-24T01:39:54.100506Z"
    },
    "papermill": {
     "duration": 0.318783,
     "end_time": "2023-11-24T01:58:40.698605",
     "exception": false,
     "start_time": "2023-11-24T01:58:40.379822",
     "status": "completed"
    },
    "tags": []
   },
   "outputs": [
    {
     "name": "stdout",
     "output_type": "stream",
     "text": [
      "Getting joiningwords ...\n",
      "Time taken 0.25923650999993697 sec\n"
     ]
    }
   ],
   "source": [
    "print('Getting joiningwords ...')\n",
    "t0= time.perf_counter()\n",
    "phish_data['text_sent'] = phish_data['text_stemmed'].map(lambda l: ' '.join(l))\n",
    "t1= time.perf_counter() - t0\n",
    "print('Time taken',t1 ,'sec')"
   ]
  },
  {
   "cell_type": "code",
   "execution_count": 20,
   "metadata": {
    "execution": {
     "iopub.execute_input": "2023-11-24T01:58:40.795240Z",
     "iopub.status.busy": "2023-11-24T01:58:40.794595Z",
     "iopub.status.idle": "2023-11-24T01:58:40.914096Z",
     "shell.execute_reply": "2023-11-24T01:58:40.913571Z",
     "shell.execute_reply.started": "2023-11-24T01:39:54.582726Z"
    },
    "papermill": {
     "duration": 0.169889,
     "end_time": "2023-11-24T01:58:40.914223",
     "exception": false,
     "start_time": "2023-11-24T01:58:40.744334",
     "status": "completed"
    },
    "tags": []
   },
   "outputs": [
    {
     "data": {
      "text/html": [
       "<div>\n",
       "<style scoped>\n",
       "    .dataframe tbody tr th:only-of-type {\n",
       "        vertical-align: middle;\n",
       "    }\n",
       "\n",
       "    .dataframe tbody tr th {\n",
       "        vertical-align: top;\n",
       "    }\n",
       "\n",
       "    .dataframe thead th {\n",
       "        text-align: right;\n",
       "    }\n",
       "</style>\n",
       "<table border=\"1\" class=\"dataframe\">\n",
       "  <thead>\n",
       "    <tr style=\"text-align: right;\">\n",
       "      <th></th>\n",
       "      <th>URL</th>\n",
       "      <th>Label</th>\n",
       "      <th>text_tokenized</th>\n",
       "      <th>text_stemmed</th>\n",
       "      <th>text_sent</th>\n",
       "    </tr>\n",
       "  </thead>\n",
       "  <tbody>\n",
       "    <tr>\n",
       "      <th>58205</th>\n",
       "      <td>www.aladdin.cs.cmu.edu/workshops/dynamic_alg/</td>\n",
       "      <td>good</td>\n",
       "      <td>[www, aladdin, cs, cmu, edu, workshops, dynami...</td>\n",
       "      <td>[www, aladdin, cs, cmu, edu, workshop, dynam, ...</td>\n",
       "      <td>www aladdin cs cmu edu workshop dynam alg</td>\n",
       "    </tr>\n",
       "    <tr>\n",
       "      <th>420498</th>\n",
       "      <td>rcnvr.com/L%20-%20RCN%20-%20WW2.php</td>\n",
       "      <td>good</td>\n",
       "      <td>[rcnvr, com, L, RCN, WW, php]</td>\n",
       "      <td>[rcnvr, com, l, rcn, ww, php]</td>\n",
       "      <td>rcnvr com l rcn ww php</td>\n",
       "    </tr>\n",
       "    <tr>\n",
       "      <th>470044</th>\n",
       "      <td>yolandeharris.net/</td>\n",
       "      <td>good</td>\n",
       "      <td>[yolandeharris, net]</td>\n",
       "      <td>[yolandeharri, net]</td>\n",
       "      <td>yolandeharri net</td>\n",
       "    </tr>\n",
       "    <tr>\n",
       "      <th>45596</th>\n",
       "      <td>bit.ly/XbGOjY</td>\n",
       "      <td>bad</td>\n",
       "      <td>[bit, ly, XbGOjY]</td>\n",
       "      <td>[bit, ly, xbgoji]</td>\n",
       "      <td>bit ly xbgoji</td>\n",
       "    </tr>\n",
       "    <tr>\n",
       "      <th>509253</th>\n",
       "      <td>kulak.at/wp-content/plugins/wp_module/43.exe</td>\n",
       "      <td>bad</td>\n",
       "      <td>[kulak, at, wp, content, plugins, wp, module, ...</td>\n",
       "      <td>[kulak, at, wp, content, plugin, wp, modul, exe]</td>\n",
       "      <td>kulak at wp content plugin wp modul exe</td>\n",
       "    </tr>\n",
       "  </tbody>\n",
       "</table>\n",
       "</div>"
      ],
      "text/plain": [
       "                                                  URL Label  \\\n",
       "58205   www.aladdin.cs.cmu.edu/workshops/dynamic_alg/  good   \n",
       "420498            rcnvr.com/L%20-%20RCN%20-%20WW2.php  good   \n",
       "470044                             yolandeharris.net/  good   \n",
       "45596                                   bit.ly/XbGOjY   bad   \n",
       "509253   kulak.at/wp-content/plugins/wp_module/43.exe   bad   \n",
       "\n",
       "                                           text_tokenized  \\\n",
       "58205   [www, aladdin, cs, cmu, edu, workshops, dynami...   \n",
       "420498                      [rcnvr, com, L, RCN, WW, php]   \n",
       "470044                               [yolandeharris, net]   \n",
       "45596                                   [bit, ly, XbGOjY]   \n",
       "509253  [kulak, at, wp, content, plugins, wp, module, ...   \n",
       "\n",
       "                                             text_stemmed  \\\n",
       "58205   [www, aladdin, cs, cmu, edu, workshop, dynam, ...   \n",
       "420498                      [rcnvr, com, l, rcn, ww, php]   \n",
       "470044                                [yolandeharri, net]   \n",
       "45596                                   [bit, ly, xbgoji]   \n",
       "509253   [kulak, at, wp, content, plugin, wp, modul, exe]   \n",
       "\n",
       "                                        text_sent  \n",
       "58205   www aladdin cs cmu edu workshop dynam alg  \n",
       "420498                     rcnvr com l rcn ww php  \n",
       "470044                           yolandeharri net  \n",
       "45596                               bit ly xbgoji  \n",
       "509253    kulak at wp content plugin wp modul exe  "
      ]
     },
     "execution_count": 20,
     "metadata": {},
     "output_type": "execute_result"
    }
   ],
   "source": [
    "phish_data.sample(5)"
   ]
  },
  {
   "cell_type": "markdown",
   "metadata": {
    "papermill": {
     "duration": 0.047624,
     "end_time": "2023-11-24T01:58:41.010665",
     "exception": false,
     "start_time": "2023-11-24T01:58:40.963041",
     "status": "completed"
    },
    "tags": []
   },
   "source": [
    "### Visualization \n",
    "**1. Visualize some important keys using word cloud**"
   ]
  },
  {
   "cell_type": "code",
   "execution_count": 21,
   "metadata": {
    "execution": {
     "iopub.execute_input": "2023-11-24T01:58:41.138574Z",
     "iopub.status.busy": "2023-11-24T01:58:41.137932Z",
     "iopub.status.idle": "2023-11-24T01:58:41.227433Z",
     "shell.execute_reply": "2023-11-24T01:58:41.226854Z",
     "shell.execute_reply.started": "2023-11-24T01:39:54.765158Z"
    },
    "papermill": {
     "duration": 0.17121,
     "end_time": "2023-11-24T01:58:41.227622",
     "exception": false,
     "start_time": "2023-11-24T01:58:41.056412",
     "status": "completed"
    },
    "tags": []
   },
   "outputs": [],
   "source": [
    "#sliceing classes\n",
    "bad_sites = phish_data[phish_data.Label == 'bad']\n",
    "good_sites = phish_data[phish_data.Label == 'good']"
   ]
  },
  {
   "cell_type": "code",
   "execution_count": 22,
   "metadata": {
    "execution": {
     "iopub.execute_input": "2023-11-24T01:58:41.340846Z",
     "iopub.status.busy": "2023-11-24T01:58:41.340246Z",
     "iopub.status.idle": "2023-11-24T01:58:41.345545Z",
     "shell.execute_reply": "2023-11-24T01:58:41.345030Z",
     "shell.execute_reply.started": "2023-11-24T01:39:55.018793Z"
    },
    "papermill": {
     "duration": 0.070415,
     "end_time": "2023-11-24T01:58:41.345667",
     "exception": false,
     "start_time": "2023-11-24T01:58:41.275252",
     "status": "completed"
    },
    "tags": []
   },
   "outputs": [
    {
     "data": {
      "text/html": [
       "<div>\n",
       "<style scoped>\n",
       "    .dataframe tbody tr th:only-of-type {\n",
       "        vertical-align: middle;\n",
       "    }\n",
       "\n",
       "    .dataframe tbody tr th {\n",
       "        vertical-align: top;\n",
       "    }\n",
       "\n",
       "    .dataframe thead th {\n",
       "        text-align: right;\n",
       "    }\n",
       "</style>\n",
       "<table border=\"1\" class=\"dataframe\">\n",
       "  <thead>\n",
       "    <tr style=\"text-align: right;\">\n",
       "      <th></th>\n",
       "      <th>URL</th>\n",
       "      <th>Label</th>\n",
       "      <th>text_tokenized</th>\n",
       "      <th>text_stemmed</th>\n",
       "      <th>text_sent</th>\n",
       "    </tr>\n",
       "  </thead>\n",
       "  <tbody>\n",
       "    <tr>\n",
       "      <th>0</th>\n",
       "      <td>nobell.it/70ffb52d079109dca5664cce6f317373782/...</td>\n",
       "      <td>bad</td>\n",
       "      <td>[nobell, it, ffb, d, dca, cce, f, login, SkyPe...</td>\n",
       "      <td>[nobel, it, ffb, d, dca, cce, f, login, skype,...</td>\n",
       "      <td>nobel it ffb d dca cce f login skype com en cg...</td>\n",
       "    </tr>\n",
       "    <tr>\n",
       "      <th>1</th>\n",
       "      <td>www.dghjdgf.com/paypal.co.uk/cycgi-bin/webscrc...</td>\n",
       "      <td>bad</td>\n",
       "      <td>[www, dghjdgf, com, paypal, co, uk, cycgi, bin...</td>\n",
       "      <td>[www, dghjdgf, com, paypal, co, uk, cycgi, bin...</td>\n",
       "      <td>www dghjdgf com paypal co uk cycgi bin webscrc...</td>\n",
       "    </tr>\n",
       "    <tr>\n",
       "      <th>2</th>\n",
       "      <td>serviciosbys.com/paypal.cgi.bin.get-into.herf....</td>\n",
       "      <td>bad</td>\n",
       "      <td>[serviciosbys, com, paypal, cgi, bin, get, int...</td>\n",
       "      <td>[serviciosbi, com, paypal, cgi, bin, get, into...</td>\n",
       "      <td>serviciosbi com paypal cgi bin get into herf s...</td>\n",
       "    </tr>\n",
       "    <tr>\n",
       "      <th>3</th>\n",
       "      <td>mail.printakid.com/www.online.americanexpress....</td>\n",
       "      <td>bad</td>\n",
       "      <td>[mail, printakid, com, www, online, americanex...</td>\n",
       "      <td>[mail, printakid, com, www, onlin, americanexp...</td>\n",
       "      <td>mail printakid com www onlin americanexpress c...</td>\n",
       "    </tr>\n",
       "    <tr>\n",
       "      <th>4</th>\n",
       "      <td>thewhiskeydregs.com/wp-content/themes/widescre...</td>\n",
       "      <td>bad</td>\n",
       "      <td>[thewhiskeydregs, com, wp, content, themes, wi...</td>\n",
       "      <td>[thewhiskeydreg, com, wp, content, theme, wide...</td>\n",
       "      <td>thewhiskeydreg com wp content theme widescreen...</td>\n",
       "    </tr>\n",
       "  </tbody>\n",
       "</table>\n",
       "</div>"
      ],
      "text/plain": [
       "                                                 URL Label  \\\n",
       "0  nobell.it/70ffb52d079109dca5664cce6f317373782/...   bad   \n",
       "1  www.dghjdgf.com/paypal.co.uk/cycgi-bin/webscrc...   bad   \n",
       "2  serviciosbys.com/paypal.cgi.bin.get-into.herf....   bad   \n",
       "3  mail.printakid.com/www.online.americanexpress....   bad   \n",
       "4  thewhiskeydregs.com/wp-content/themes/widescre...   bad   \n",
       "\n",
       "                                      text_tokenized  \\\n",
       "0  [nobell, it, ffb, d, dca, cce, f, login, SkyPe...   \n",
       "1  [www, dghjdgf, com, paypal, co, uk, cycgi, bin...   \n",
       "2  [serviciosbys, com, paypal, cgi, bin, get, int...   \n",
       "3  [mail, printakid, com, www, online, americanex...   \n",
       "4  [thewhiskeydregs, com, wp, content, themes, wi...   \n",
       "\n",
       "                                        text_stemmed  \\\n",
       "0  [nobel, it, ffb, d, dca, cce, f, login, skype,...   \n",
       "1  [www, dghjdgf, com, paypal, co, uk, cycgi, bin...   \n",
       "2  [serviciosbi, com, paypal, cgi, bin, get, into...   \n",
       "3  [mail, printakid, com, www, onlin, americanexp...   \n",
       "4  [thewhiskeydreg, com, wp, content, theme, wide...   \n",
       "\n",
       "                                           text_sent  \n",
       "0  nobel it ffb d dca cce f login skype com en cg...  \n",
       "1  www dghjdgf com paypal co uk cycgi bin webscrc...  \n",
       "2  serviciosbi com paypal cgi bin get into herf s...  \n",
       "3  mail printakid com www onlin americanexpress c...  \n",
       "4  thewhiskeydreg com wp content theme widescreen...  "
      ]
     },
     "execution_count": 22,
     "metadata": {},
     "output_type": "execute_result"
    }
   ],
   "source": [
    "bad_sites.head()"
   ]
  },
  {
   "cell_type": "code",
   "execution_count": 23,
   "metadata": {
    "execution": {
     "iopub.execute_input": "2023-11-24T01:58:41.458931Z",
     "iopub.status.busy": "2023-11-24T01:58:41.458275Z",
     "iopub.status.idle": "2023-11-24T01:58:41.461630Z",
     "shell.execute_reply": "2023-11-24T01:58:41.461166Z",
     "shell.execute_reply.started": "2023-11-24T01:39:55.047183Z"
    },
    "papermill": {
     "duration": 0.069407,
     "end_time": "2023-11-24T01:58:41.461741",
     "exception": false,
     "start_time": "2023-11-24T01:58:41.392334",
     "status": "completed"
    },
    "tags": []
   },
   "outputs": [
    {
     "data": {
      "text/html": [
       "<div>\n",
       "<style scoped>\n",
       "    .dataframe tbody tr th:only-of-type {\n",
       "        vertical-align: middle;\n",
       "    }\n",
       "\n",
       "    .dataframe tbody tr th {\n",
       "        vertical-align: top;\n",
       "    }\n",
       "\n",
       "    .dataframe thead th {\n",
       "        text-align: right;\n",
       "    }\n",
       "</style>\n",
       "<table border=\"1\" class=\"dataframe\">\n",
       "  <thead>\n",
       "    <tr style=\"text-align: right;\">\n",
       "      <th></th>\n",
       "      <th>URL</th>\n",
       "      <th>Label</th>\n",
       "      <th>text_tokenized</th>\n",
       "      <th>text_stemmed</th>\n",
       "      <th>text_sent</th>\n",
       "    </tr>\n",
       "  </thead>\n",
       "  <tbody>\n",
       "    <tr>\n",
       "      <th>18231</th>\n",
       "      <td>esxcc.com/js/index.htm?us.battle.net/noghn/en/...</td>\n",
       "      <td>good</td>\n",
       "      <td>[esxcc, com, js, index, htm, us, battle, net, ...</td>\n",
       "      <td>[esxcc, com, js, index, htm, us, battl, net, n...</td>\n",
       "      <td>esxcc com js index htm us battl net noghn en r...</td>\n",
       "    </tr>\n",
       "    <tr>\n",
       "      <th>18232</th>\n",
       "      <td>www\u000eeira¯&amp;nvinip¿ncH¯wVö%ÆåyDaHðû/ÏyEùu\u0003Ë\\nÓ\u00176...</td>\n",
       "      <td>good</td>\n",
       "      <td>[www, eira, nvinip, ncH, wV, yDaH, yE, u, rT, ...</td>\n",
       "      <td>[www, eira, nvinip, nch, wv, ydah, ye, u, rt, ...</td>\n",
       "      <td>www eira nvinip nch wv ydah ye u rt u g m i xz...</td>\n",
       "    </tr>\n",
       "    <tr>\n",
       "      <th>18233</th>\n",
       "      <td>'www.institutocgr.coo/web/media/syqvem/dk-\u000fóij...</td>\n",
       "      <td>good</td>\n",
       "      <td>[www, institutocgr, coo, web, media, syqvem, d...</td>\n",
       "      <td>[www, institutocgr, coo, web, media, syqvem, d...</td>\n",
       "      <td>www institutocgr coo web media syqvem dk ij r ...</td>\n",
       "    </tr>\n",
       "    <tr>\n",
       "      <th>18234</th>\n",
       "      <td>\u0011\u0018Yìê\f",
       "koãÕ»Î§DéÎ\u0002l½ñ¡ââqtò¸/à; Í</td>\n",
       "      <td>good</td>\n",
       "      <td>[Y, ko, D, l, qt]</td>\n",
       "      <td>[y, ko, d, l, qt]</td>\n",
       "      <td>y ko d l qt</td>\n",
       "    </tr>\n",
       "    <tr>\n",
       "      <th>18236</th>\n",
       "      <td>ruta89fm.com/images/AS@Vies/1i75cf7b16vc&lt;F\u0015d16...</td>\n",
       "      <td>good</td>\n",
       "      <td>[ruta, fm, com, images, AS, Vies, i, cf, b, vc...</td>\n",
       "      <td>[ruta, fm, com, imag, as, vie, i, cf, b, vc, f...</td>\n",
       "      <td>ruta fm com imag as vie i cf b vc f d b g sd v...</td>\n",
       "    </tr>\n",
       "  </tbody>\n",
       "</table>\n",
       "</div>"
      ],
      "text/plain": [
       "                                                     URL Label  \\\n",
       "18231  esxcc.com/js/index.htm?us.battle.net/noghn/en/...  good   \n",
       "18232  www\u000eeira¯&nvinip¿ncH¯wVö%ÆåyDaHðû/ÏyEùu\u0003Ë\\nÓ\u00176...  good   \n",
       "18233  'www.institutocgr.coo/web/media/syqvem/dk-\u000fóij...  good   \n",
       "18234                  \u0011\u0018Yìê\n",
       "koãÕ»Î§DéÎ\u0002l½ñ¡ââqtò¸/à; Í  good   \n",
       "18236  ruta89fm.com/images/AS@Vies/1i75cf7b16vc<F\u0015d16...  good   \n",
       "\n",
       "                                          text_tokenized  \\\n",
       "18231  [esxcc, com, js, index, htm, us, battle, net, ...   \n",
       "18232  [www, eira, nvinip, ncH, wV, yDaH, yE, u, rT, ...   \n",
       "18233  [www, institutocgr, coo, web, media, syqvem, d...   \n",
       "18234                                  [Y, ko, D, l, qt]   \n",
       "18236  [ruta, fm, com, images, AS, Vies, i, cf, b, vc...   \n",
       "\n",
       "                                            text_stemmed  \\\n",
       "18231  [esxcc, com, js, index, htm, us, battl, net, n...   \n",
       "18232  [www, eira, nvinip, nch, wv, ydah, ye, u, rt, ...   \n",
       "18233  [www, institutocgr, coo, web, media, syqvem, d...   \n",
       "18234                                  [y, ko, d, l, qt]   \n",
       "18236  [ruta, fm, com, imag, as, vie, i, cf, b, vc, f...   \n",
       "\n",
       "                                               text_sent  \n",
       "18231  esxcc com js index htm us battl net noghn en r...  \n",
       "18232  www eira nvinip nch wv ydah ye u rt u g m i xz...  \n",
       "18233  www institutocgr coo web media syqvem dk ij r ...  \n",
       "18234                                        y ko d l qt  \n",
       "18236  ruta fm com imag as vie i cf b vc f d b g sd v...  "
      ]
     },
     "execution_count": 23,
     "metadata": {},
     "output_type": "execute_result"
    }
   ],
   "source": [
    "good_sites.head()"
   ]
  },
  {
   "cell_type": "markdown",
   "metadata": {
    "papermill": {
     "duration": 0.04763,
     "end_time": "2023-11-24T01:58:41.556863",
     "exception": false,
     "start_time": "2023-11-24T01:58:41.509233",
     "status": "completed"
    },
    "tags": []
   },
   "source": [
    "* create a function to visualize the important keys from url "
   ]
  },
  {
   "cell_type": "code",
   "execution_count": 24,
   "metadata": {
    "execution": {
     "iopub.execute_input": "2023-11-24T01:58:41.659024Z",
     "iopub.status.busy": "2023-11-24T01:58:41.658335Z",
     "iopub.status.idle": "2023-11-24T01:58:41.661553Z",
     "shell.execute_reply": "2023-11-24T01:58:41.662021Z",
     "shell.execute_reply.started": "2023-11-24T01:39:55.086523Z"
    },
    "papermill": {
     "duration": 0.057011,
     "end_time": "2023-11-24T01:58:41.662193",
     "exception": false,
     "start_time": "2023-11-24T01:58:41.605182",
     "status": "completed"
    },
    "tags": []
   },
   "outputs": [],
   "source": [
    "data = good_sites.text_sent\n",
    "data.reset_index(drop=True, inplace=True)"
   ]
  },
  {
   "cell_type": "code",
   "execution_count": 25,
   "metadata": {
    "execution": {
     "iopub.execute_input": "2023-11-24T01:58:41.763944Z",
     "iopub.status.busy": "2023-11-24T01:58:41.763323Z",
     "iopub.status.idle": "2023-11-24T01:58:41.766694Z",
     "shell.execute_reply": "2023-11-24T01:58:41.766093Z",
     "shell.execute_reply.started": "2023-11-24T01:39:55.096985Z"
    },
    "papermill": {
     "duration": 0.056699,
     "end_time": "2023-11-24T01:58:41.766815",
     "exception": false,
     "start_time": "2023-11-24T01:58:41.710116",
     "status": "completed"
    },
    "tags": []
   },
   "outputs": [],
   "source": [
    "data = bad_sites.text_sent\n",
    "data.reset_index(drop=True, inplace=True)"
   ]
  },
  {
   "cell_type": "code",
   "execution_count": 26,
   "metadata": {
    "execution": {
     "iopub.execute_input": "2023-11-24T01:58:41.870881Z",
     "iopub.status.busy": "2023-11-24T01:58:41.870107Z",
     "iopub.status.idle": "2023-11-24T01:58:41.874689Z",
     "shell.execute_reply": "2023-11-24T01:58:41.874104Z",
     "shell.execute_reply.started": "2023-11-24T01:39:55.107975Z"
    },
    "papermill": {
     "duration": 0.059014,
     "end_time": "2023-11-24T01:58:41.874817",
     "exception": false,
     "start_time": "2023-11-24T01:58:41.815803",
     "status": "completed"
    },
    "tags": []
   },
   "outputs": [],
   "source": [
    "#create cv object\n",
    "cv = CountVectorizer()"
   ]
  },
  {
   "cell_type": "code",
   "execution_count": 27,
   "metadata": {
    "execution": {
     "iopub.execute_input": "2023-11-24T01:58:41.981002Z",
     "iopub.status.busy": "2023-11-24T01:58:41.980259Z",
     "iopub.status.idle": "2023-11-24T01:58:41.989436Z",
     "shell.execute_reply": "2023-11-24T01:58:41.988793Z",
     "shell.execute_reply.started": "2023-11-24T01:39:55.123370Z"
    },
    "papermill": {
     "duration": 0.066368,
     "end_time": "2023-11-24T01:58:41.989636",
     "exception": false,
     "start_time": "2023-11-24T01:58:41.923268",
     "status": "completed"
    },
    "tags": []
   },
   "outputs": [
    {
     "name": "stdout",
     "output_type": "stream",
     "text": [
      "Help on CountVectorizer in module sklearn.feature_extraction.text object:\n",
      "\n",
      "class CountVectorizer(_VectorizerMixin, sklearn.base.BaseEstimator)\n",
      " |  CountVectorizer(*, input='content', encoding='utf-8', decode_error='strict', strip_accents=None, lowercase=True, preprocessor=None, tokenizer=None, stop_words=None, token_pattern='(?u)\\\\b\\\\w\\\\w+\\\\b', ngram_range=(1, 1), analyzer='word', max_df=1.0, min_df=1, max_features=None, vocabulary=None, binary=False, dtype=<class 'numpy.int64'>)\n",
      " |  \n",
      " |  Convert a collection of text documents to a matrix of token counts\n",
      " |  \n",
      " |  This implementation produces a sparse representation of the counts using\n",
      " |  scipy.sparse.csr_matrix.\n",
      " |  \n",
      " |  If you do not provide an a-priori dictionary and you do not use an analyzer\n",
      " |  that does some kind of feature selection then the number of features will\n",
      " |  be equal to the vocabulary size found by analyzing the data.\n",
      " |  \n",
      " |  Read more in the :ref:`User Guide <text_feature_extraction>`.\n",
      " |  \n",
      " |  Parameters\n",
      " |  ----------\n",
      " |  input : string {'filename', 'file', 'content'}, default='content'\n",
      " |      If 'filename', the sequence passed as an argument to fit is\n",
      " |      expected to be a list of filenames that need reading to fetch\n",
      " |      the raw content to analyze.\n",
      " |  \n",
      " |      If 'file', the sequence items must have a 'read' method (file-like\n",
      " |      object) that is called to fetch the bytes in memory.\n",
      " |  \n",
      " |      Otherwise the input is expected to be a sequence of items that\n",
      " |      can be of type string or byte.\n",
      " |  \n",
      " |  encoding : string, default='utf-8'\n",
      " |      If bytes or files are given to analyze, this encoding is used to\n",
      " |      decode.\n",
      " |  \n",
      " |  decode_error : {'strict', 'ignore', 'replace'}, default='strict'\n",
      " |      Instruction on what to do if a byte sequence is given to analyze that\n",
      " |      contains characters not of the given `encoding`. By default, it is\n",
      " |      'strict', meaning that a UnicodeDecodeError will be raised. Other\n",
      " |      values are 'ignore' and 'replace'.\n",
      " |  \n",
      " |  strip_accents : {'ascii', 'unicode'}, default=None\n",
      " |      Remove accents and perform other character normalization\n",
      " |      during the preprocessing step.\n",
      " |      'ascii' is a fast method that only works on characters that have\n",
      " |      an direct ASCII mapping.\n",
      " |      'unicode' is a slightly slower method that works on any characters.\n",
      " |      None (default) does nothing.\n",
      " |  \n",
      " |      Both 'ascii' and 'unicode' use NFKD normalization from\n",
      " |      :func:`unicodedata.normalize`.\n",
      " |  \n",
      " |  lowercase : bool, default=True\n",
      " |      Convert all characters to lowercase before tokenizing.\n",
      " |  \n",
      " |  preprocessor : callable, default=None\n",
      " |      Override the preprocessing (string transformation) stage while\n",
      " |      preserving the tokenizing and n-grams generation steps.\n",
      " |      Only applies if ``analyzer is not callable``.\n",
      " |  \n",
      " |  tokenizer : callable, default=None\n",
      " |      Override the string tokenization step while preserving the\n",
      " |      preprocessing and n-grams generation steps.\n",
      " |      Only applies if ``analyzer == 'word'``.\n",
      " |  \n",
      " |  stop_words : string {'english'}, list, default=None\n",
      " |      If 'english', a built-in stop word list for English is used.\n",
      " |      There are several known issues with 'english' and you should\n",
      " |      consider an alternative (see :ref:`stop_words`).\n",
      " |  \n",
      " |      If a list, that list is assumed to contain stop words, all of which\n",
      " |      will be removed from the resulting tokens.\n",
      " |      Only applies if ``analyzer == 'word'``.\n",
      " |  \n",
      " |      If None, no stop words will be used. max_df can be set to a value\n",
      " |      in the range [0.7, 1.0) to automatically detect and filter stop\n",
      " |      words based on intra corpus document frequency of terms.\n",
      " |  \n",
      " |  token_pattern : string\n",
      " |      Regular expression denoting what constitutes a \"token\", only used\n",
      " |      if ``analyzer == 'word'``. The default regexp select tokens of 2\n",
      " |      or more alphanumeric characters (punctuation is completely ignored\n",
      " |      and always treated as a token separator).\n",
      " |  \n",
      " |  ngram_range : tuple (min_n, max_n), default=(1, 1)\n",
      " |      The lower and upper boundary of the range of n-values for different\n",
      " |      word n-grams or char n-grams to be extracted. All values of n such\n",
      " |      such that min_n <= n <= max_n will be used. For example an\n",
      " |      ``ngram_range`` of ``(1, 1)`` means only unigrams, ``(1, 2)`` means\n",
      " |      unigrams and bigrams, and ``(2, 2)`` means only bigrams.\n",
      " |      Only applies if ``analyzer is not callable``.\n",
      " |  \n",
      " |  analyzer : string, {'word', 'char', 'char_wb'} or callable,             default='word'\n",
      " |      Whether the feature should be made of word n-gram or character\n",
      " |      n-grams.\n",
      " |      Option 'char_wb' creates character n-grams only from text inside\n",
      " |      word boundaries; n-grams at the edges of words are padded with space.\n",
      " |  \n",
      " |      If a callable is passed it is used to extract the sequence of features\n",
      " |      out of the raw, unprocessed input.\n",
      " |  \n",
      " |      .. versionchanged:: 0.21\n",
      " |  \n",
      " |      Since v0.21, if ``input`` is ``filename`` or ``file``, the data is\n",
      " |      first read from the file and then passed to the given callable\n",
      " |      analyzer.\n",
      " |  \n",
      " |  max_df : float in range [0.0, 1.0] or int, default=1.0\n",
      " |      When building the vocabulary ignore terms that have a document\n",
      " |      frequency strictly higher than the given threshold (corpus-specific\n",
      " |      stop words).\n",
      " |      If float, the parameter represents a proportion of documents, integer\n",
      " |      absolute counts.\n",
      " |      This parameter is ignored if vocabulary is not None.\n",
      " |  \n",
      " |  min_df : float in range [0.0, 1.0] or int, default=1\n",
      " |      When building the vocabulary ignore terms that have a document\n",
      " |      frequency strictly lower than the given threshold. This value is also\n",
      " |      called cut-off in the literature.\n",
      " |      If float, the parameter represents a proportion of documents, integer\n",
      " |      absolute counts.\n",
      " |      This parameter is ignored if vocabulary is not None.\n",
      " |  \n",
      " |  max_features : int, default=None\n",
      " |      If not None, build a vocabulary that only consider the top\n",
      " |      max_features ordered by term frequency across the corpus.\n",
      " |  \n",
      " |      This parameter is ignored if vocabulary is not None.\n",
      " |  \n",
      " |  vocabulary : Mapping or iterable, default=None\n",
      " |      Either a Mapping (e.g., a dict) where keys are terms and values are\n",
      " |      indices in the feature matrix, or an iterable over terms. If not\n",
      " |      given, a vocabulary is determined from the input documents. Indices\n",
      " |      in the mapping should not be repeated and should not have any gap\n",
      " |      between 0 and the largest index.\n",
      " |  \n",
      " |  binary : bool, default=False\n",
      " |      If True, all non zero counts are set to 1. This is useful for discrete\n",
      " |      probabilistic models that model binary events rather than integer\n",
      " |      counts.\n",
      " |  \n",
      " |  dtype : type, default=np.int64\n",
      " |      Type of the matrix returned by fit_transform() or transform().\n",
      " |  \n",
      " |  Attributes\n",
      " |  ----------\n",
      " |  vocabulary_ : dict\n",
      " |      A mapping of terms to feature indices.\n",
      " |  \n",
      " |  fixed_vocabulary_: boolean\n",
      " |      True if a fixed vocabulary of term to indices mapping\n",
      " |      is provided by the user\n",
      " |  \n",
      " |  stop_words_ : set\n",
      " |      Terms that were ignored because they either:\n",
      " |  \n",
      " |        - occurred in too many documents (`max_df`)\n",
      " |        - occurred in too few documents (`min_df`)\n",
      " |        - were cut off by feature selection (`max_features`).\n",
      " |  \n",
      " |      This is only available if no vocabulary was given.\n",
      " |  \n",
      " |  Examples\n",
      " |  --------\n",
      " |  >>> from sklearn.feature_extraction.text import CountVectorizer\n",
      " |  >>> corpus = [\n",
      " |  ...     'This is the first document.',\n",
      " |  ...     'This document is the second document.',\n",
      " |  ...     'And this is the third one.',\n",
      " |  ...     'Is this the first document?',\n",
      " |  ... ]\n",
      " |  >>> vectorizer = CountVectorizer()\n",
      " |  >>> X = vectorizer.fit_transform(corpus)\n",
      " |  >>> print(vectorizer.get_feature_names())\n",
      " |  ['and', 'document', 'first', 'is', 'one', 'second', 'the', 'third', 'this']\n",
      " |  >>> print(X.toarray())\n",
      " |  [[0 1 1 1 0 0 1 0 1]\n",
      " |   [0 2 0 1 0 1 1 0 1]\n",
      " |   [1 0 0 1 1 0 1 1 1]\n",
      " |   [0 1 1 1 0 0 1 0 1]]\n",
      " |  >>> vectorizer2 = CountVectorizer(analyzer='word', ngram_range=(2, 2))\n",
      " |  >>> X2 = vectorizer2.fit_transform(corpus)\n",
      " |  >>> print(vectorizer2.get_feature_names())\n",
      " |  ['and this', 'document is', 'first document', 'is the', 'is this',\n",
      " |  'second document', 'the first', 'the second', 'the third', 'third one',\n",
      " |   'this document', 'this is', 'this the']\n",
      " |   >>> print(X2.toarray())\n",
      " |   [[0 0 1 1 0 0 1 0 0 0 0 1 0]\n",
      " |   [0 1 0 1 0 1 0 1 0 0 1 0 0]\n",
      " |   [1 0 0 1 0 0 0 0 1 1 0 1 0]\n",
      " |   [0 0 1 0 1 0 1 0 0 0 0 0 1]]\n",
      " |  \n",
      " |  See Also\n",
      " |  --------\n",
      " |  HashingVectorizer, TfidfVectorizer\n",
      " |  \n",
      " |  Notes\n",
      " |  -----\n",
      " |  The ``stop_words_`` attribute can get large and increase the model size\n",
      " |  when pickling. This attribute is provided only for introspection and can\n",
      " |  be safely removed using delattr or set to None before pickling.\n",
      " |  \n",
      " |  Method resolution order:\n",
      " |      CountVectorizer\n",
      " |      _VectorizerMixin\n",
      " |      sklearn.base.BaseEstimator\n",
      " |      builtins.object\n",
      " |  \n",
      " |  Methods defined here:\n",
      " |  \n",
      " |  __init__(self, *, input='content', encoding='utf-8', decode_error='strict', strip_accents=None, lowercase=True, preprocessor=None, tokenizer=None, stop_words=None, token_pattern='(?u)\\\\b\\\\w\\\\w+\\\\b', ngram_range=(1, 1), analyzer='word', max_df=1.0, min_df=1, max_features=None, vocabulary=None, binary=False, dtype=<class 'numpy.int64'>)\n",
      " |      Initialize self.  See help(type(self)) for accurate signature.\n",
      " |  \n",
      " |  fit(self, raw_documents, y=None)\n",
      " |      Learn a vocabulary dictionary of all tokens in the raw documents.\n",
      " |      \n",
      " |      Parameters\n",
      " |      ----------\n",
      " |      raw_documents : iterable\n",
      " |          An iterable which yields either str, unicode or file objects.\n",
      " |      \n",
      " |      Returns\n",
      " |      -------\n",
      " |      self\n",
      " |  \n",
      " |  fit_transform(self, raw_documents, y=None)\n",
      " |      Learn the vocabulary dictionary and return document-term matrix.\n",
      " |      \n",
      " |      This is equivalent to fit followed by transform, but more efficiently\n",
      " |      implemented.\n",
      " |      \n",
      " |      Parameters\n",
      " |      ----------\n",
      " |      raw_documents : iterable\n",
      " |          An iterable which yields either str, unicode or file objects.\n",
      " |      \n",
      " |      Returns\n",
      " |      -------\n",
      " |      X : array of shape (n_samples, n_features)\n",
      " |          Document-term matrix.\n",
      " |  \n",
      " |  get_feature_names(self)\n",
      " |      Array mapping from feature integer indices to feature name.\n",
      " |      \n",
      " |      Returns\n",
      " |      -------\n",
      " |      feature_names : list\n",
      " |          A list of feature names.\n",
      " |  \n",
      " |  inverse_transform(self, X)\n",
      " |      Return terms per document with nonzero entries in X.\n",
      " |      \n",
      " |      Parameters\n",
      " |      ----------\n",
      " |      X : {array-like, sparse matrix} of shape (n_samples, n_features)\n",
      " |          Document-term matrix.\n",
      " |      \n",
      " |      Returns\n",
      " |      -------\n",
      " |      X_inv : list of arrays of shape (n_samples,)\n",
      " |          List of arrays of terms.\n",
      " |  \n",
      " |  transform(self, raw_documents)\n",
      " |      Transform documents to document-term matrix.\n",
      " |      \n",
      " |      Extract token counts out of raw text documents using the vocabulary\n",
      " |      fitted with fit or the one provided to the constructor.\n",
      " |      \n",
      " |      Parameters\n",
      " |      ----------\n",
      " |      raw_documents : iterable\n",
      " |          An iterable which yields either str, unicode or file objects.\n",
      " |      \n",
      " |      Returns\n",
      " |      -------\n",
      " |      X : sparse matrix of shape (n_samples, n_features)\n",
      " |          Document-term matrix.\n",
      " |  \n",
      " |  ----------------------------------------------------------------------\n",
      " |  Methods inherited from _VectorizerMixin:\n",
      " |  \n",
      " |  build_analyzer(self)\n",
      " |      Return a callable that handles preprocessing, tokenization\n",
      " |      and n-grams generation.\n",
      " |      \n",
      " |      Returns\n",
      " |      -------\n",
      " |      analyzer: callable\n",
      " |          A function to handle preprocessing, tokenization\n",
      " |          and n-grams generation.\n",
      " |  \n",
      " |  build_preprocessor(self)\n",
      " |      Return a function to preprocess the text before tokenization.\n",
      " |      \n",
      " |      Returns\n",
      " |      -------\n",
      " |      preprocessor: callable\n",
      " |            A function to preprocess the text before tokenization.\n",
      " |  \n",
      " |  build_tokenizer(self)\n",
      " |      Return a function that splits a string into a sequence of tokens.\n",
      " |      \n",
      " |      Returns\n",
      " |      -------\n",
      " |      tokenizer: callable\n",
      " |            A function to split a string into a sequence of tokens.\n",
      " |  \n",
      " |  decode(self, doc)\n",
      " |      Decode the input into a string of unicode symbols.\n",
      " |      \n",
      " |      The decoding strategy depends on the vectorizer parameters.\n",
      " |      \n",
      " |      Parameters\n",
      " |      ----------\n",
      " |      doc : str\n",
      " |          The string to decode.\n",
      " |      \n",
      " |      Returns\n",
      " |      -------\n",
      " |      doc: str\n",
      " |          A string of unicode symbols.\n",
      " |  \n",
      " |  get_stop_words(self)\n",
      " |      Build or fetch the effective stop words list.\n",
      " |      \n",
      " |      Returns\n",
      " |      -------\n",
      " |      stop_words: list or None\n",
      " |              A list of stop words.\n",
      " |  \n",
      " |  ----------------------------------------------------------------------\n",
      " |  Data descriptors inherited from _VectorizerMixin:\n",
      " |  \n",
      " |  __dict__\n",
      " |      dictionary for instance variables (if defined)\n",
      " |  \n",
      " |  __weakref__\n",
      " |      list of weak references to the object (if defined)\n",
      " |  \n",
      " |  ----------------------------------------------------------------------\n",
      " |  Methods inherited from sklearn.base.BaseEstimator:\n",
      " |  \n",
      " |  __getstate__(self)\n",
      " |  \n",
      " |  __repr__(self, N_CHAR_MAX=700)\n",
      " |      Return repr(self).\n",
      " |  \n",
      " |  __setstate__(self, state)\n",
      " |  \n",
      " |  get_params(self, deep=True)\n",
      " |      Get parameters for this estimator.\n",
      " |      \n",
      " |      Parameters\n",
      " |      ----------\n",
      " |      deep : bool, default=True\n",
      " |          If True, will return the parameters for this estimator and\n",
      " |          contained subobjects that are estimators.\n",
      " |      \n",
      " |      Returns\n",
      " |      -------\n",
      " |      params : mapping of string to any\n",
      " |          Parameter names mapped to their values.\n",
      " |  \n",
      " |  set_params(self, **params)\n",
      " |      Set the parameters of this estimator.\n",
      " |      \n",
      " |      The method works on simple estimators as well as on nested objects\n",
      " |      (such as pipelines). The latter have parameters of the form\n",
      " |      ``<component>__<parameter>`` so that it's possible to update each\n",
      " |      component of a nested object.\n",
      " |      \n",
      " |      Parameters\n",
      " |      ----------\n",
      " |      **params : dict\n",
      " |          Estimator parameters.\n",
      " |      \n",
      " |      Returns\n",
      " |      -------\n",
      " |      self : object\n",
      " |          Estimator instance.\n",
      "\n"
     ]
    }
   ],
   "source": [
    "help(CountVectorizer())"
   ]
  },
  {
   "cell_type": "code",
   "execution_count": 28,
   "metadata": {
    "execution": {
     "iopub.execute_input": "2023-11-24T01:58:42.092814Z",
     "iopub.status.busy": "2023-11-24T01:58:42.092009Z",
     "iopub.status.idle": "2023-11-24T01:58:48.133237Z",
     "shell.execute_reply": "2023-11-24T01:58:48.133701Z",
     "shell.execute_reply.started": "2023-11-24T01:39:55.141580Z"
    },
    "papermill": {
     "duration": 6.093266,
     "end_time": "2023-11-24T01:58:48.133869",
     "exception": false,
     "start_time": "2023-11-24T01:58:42.040603",
     "status": "completed"
    },
    "tags": []
   },
   "outputs": [],
   "source": [
    "feature = cv.fit_transform(phish_data.text_sent) #transform all text which we tokenize and stemed"
   ]
  },
  {
   "cell_type": "code",
   "execution_count": 29,
   "metadata": {
    "execution": {
     "iopub.execute_input": "2023-11-24T01:58:48.234021Z",
     "iopub.status.busy": "2023-11-24T01:58:48.233173Z",
     "iopub.status.idle": "2023-11-24T01:58:48.240347Z",
     "shell.execute_reply": "2023-11-24T01:58:48.240847Z",
     "shell.execute_reply.started": "2023-11-24T01:40:06.228298Z"
    },
    "papermill": {
     "duration": 0.058006,
     "end_time": "2023-11-24T01:58:48.240979",
     "exception": false,
     "start_time": "2023-11-24T01:58:48.182973",
     "status": "completed"
    },
    "tags": []
   },
   "outputs": [
    {
     "data": {
      "text/plain": [
       "array([[0, 0, 0, ..., 0, 0, 0],\n",
       "       [0, 0, 0, ..., 0, 0, 0],\n",
       "       [0, 0, 0, ..., 0, 0, 0],\n",
       "       [0, 0, 0, ..., 0, 0, 0],\n",
       "       [0, 0, 0, ..., 0, 0, 0]])"
      ]
     },
     "execution_count": 29,
     "metadata": {},
     "output_type": "execute_result"
    }
   ],
   "source": [
    "feature[:5].toarray() # convert sparse matrix into array to print transformed features"
   ]
  },
  {
   "cell_type": "code",
   "execution_count": 30,
   "metadata": {
    "execution": {
     "iopub.execute_input": "2023-11-24T01:58:48.342568Z",
     "iopub.status.busy": "2023-11-24T01:58:48.341847Z",
     "iopub.status.idle": "2023-11-24T01:58:48.488388Z",
     "shell.execute_reply": "2023-11-24T01:58:48.487912Z",
     "shell.execute_reply.started": "2023-11-24T01:40:06.242417Z"
    },
    "papermill": {
     "duration": 0.198299,
     "end_time": "2023-11-24T01:58:48.488553",
     "exception": false,
     "start_time": "2023-11-24T01:58:48.290254",
     "status": "completed"
    },
    "tags": []
   },
   "outputs": [],
   "source": [
    "trainX, testX, trainY, testY = train_test_split(feature, phish_data.Label)"
   ]
  },
  {
   "cell_type": "code",
   "execution_count": 31,
   "metadata": {
    "execution": {
     "iopub.execute_input": "2023-11-24T01:58:48.590848Z",
     "iopub.status.busy": "2023-11-24T01:58:48.590208Z",
     "iopub.status.idle": "2023-11-24T01:58:48.593170Z",
     "shell.execute_reply": "2023-11-24T01:58:48.592569Z",
     "shell.execute_reply.started": "2023-11-24T01:40:06.480554Z"
    },
    "papermill": {
     "duration": 0.056132,
     "end_time": "2023-11-24T01:58:48.593275",
     "exception": false,
     "start_time": "2023-11-24T01:58:48.537143",
     "status": "completed"
    },
    "tags": []
   },
   "outputs": [],
   "source": [
    "# create lr object\n",
    "lr = LogisticRegression()"
   ]
  },
  {
   "cell_type": "code",
   "execution_count": 32,
   "metadata": {
    "execution": {
     "iopub.execute_input": "2023-11-24T01:58:48.696368Z",
     "iopub.status.busy": "2023-11-24T01:58:48.695770Z",
     "iopub.status.idle": "2023-11-24T01:58:57.594658Z",
     "shell.execute_reply": "2023-11-24T01:58:57.595109Z",
     "shell.execute_reply.started": "2023-11-24T01:40:06.488160Z"
    },
    "papermill": {
     "duration": 8.953048,
     "end_time": "2023-11-24T01:58:57.595265",
     "exception": false,
     "start_time": "2023-11-24T01:58:48.642217",
     "status": "completed"
    },
    "tags": []
   },
   "outputs": [
    {
     "data": {
      "text/plain": [
       "LogisticRegression()"
      ]
     },
     "execution_count": 32,
     "metadata": {},
     "output_type": "execute_result"
    }
   ],
   "source": [
    "lr.fit(trainX,trainY)"
   ]
  },
  {
   "cell_type": "code",
   "execution_count": 33,
   "metadata": {
    "execution": {
     "iopub.execute_input": "2023-11-24T01:58:57.700761Z",
     "iopub.status.busy": "2023-11-24T01:58:57.700129Z",
     "iopub.status.idle": "2023-11-24T01:58:58.000731Z",
     "shell.execute_reply": "2023-11-24T01:58:58.001160Z",
     "shell.execute_reply.started": "2023-11-24T01:40:19.490100Z"
    },
    "papermill": {
     "duration": 0.356432,
     "end_time": "2023-11-24T01:58:58.001323",
     "exception": false,
     "start_time": "2023-11-24T01:58:57.644891",
     "status": "completed"
    },
    "tags": []
   },
   "outputs": [
    {
     "data": {
      "text/plain": [
       "0.963447577855931"
      ]
     },
     "execution_count": 33,
     "metadata": {},
     "output_type": "execute_result"
    }
   ],
   "source": [
    "lr.score(testX,testY)"
   ]
  },
  {
   "cell_type": "markdown",
   "metadata": {
    "papermill": {
     "duration": 0.047624,
     "end_time": "2023-11-24T01:58:58.098813",
     "exception": false,
     "start_time": "2023-11-24T01:58:58.051189",
     "status": "completed"
    },
    "tags": []
   },
   "source": [
    ".*** Logistic Regression is giving 96% accuracy, Now we will store scores in dict to see which model perform best**"
   ]
  },
  {
   "cell_type": "code",
   "execution_count": 34,
   "metadata": {
    "execution": {
     "iopub.execute_input": "2023-11-24T01:58:58.202924Z",
     "iopub.status.busy": "2023-11-24T01:58:58.202042Z",
     "iopub.status.idle": "2023-11-24T01:58:58.502569Z",
     "shell.execute_reply": "2023-11-24T01:58:58.501849Z",
     "shell.execute_reply.started": "2023-11-24T01:40:20.275037Z"
    },
    "papermill": {
     "duration": 0.355553,
     "end_time": "2023-11-24T01:58:58.502711",
     "exception": false,
     "start_time": "2023-11-24T01:58:58.147158",
     "status": "completed"
    },
    "tags": []
   },
   "outputs": [],
   "source": [
    "Scores_ml = {}\n",
    "Scores_ml['Logistic Regression'] = np.round(lr.score(testX,testY),2)"
   ]
  },
  {
   "cell_type": "code",
   "execution_count": 35,
   "metadata": {
    "execution": {
     "iopub.execute_input": "2023-11-24T01:58:58.668904Z",
     "iopub.status.busy": "2023-11-24T01:58:58.668221Z",
     "iopub.status.idle": "2023-11-24T01:59:06.006567Z",
     "shell.execute_reply": "2023-11-24T01:59:06.007113Z",
     "shell.execute_reply.started": "2023-11-24T01:40:21.061836Z"
    },
    "papermill": {
     "duration": 7.395701,
     "end_time": "2023-11-24T01:59:06.007309",
     "exception": false,
     "start_time": "2023-11-24T01:58:58.611608",
     "status": "completed"
    },
    "tags": []
   },
   "outputs": [
    {
     "name": "stdout",
     "output_type": "stream",
     "text": [
      "Training Accuracy : 0.9778791239997184\n",
      "Testing Accuracy : 0.963447577855931\n",
      "\n",
      "CLASSIFICATION REPORT\n",
      "\n",
      "              precision    recall  f1-score   support\n",
      "\n",
      "         Bad       0.90      0.97      0.93     36544\n",
      "        Good       0.99      0.96      0.97    100793\n",
      "\n",
      "    accuracy                           0.96    137337\n",
      "   macro avg       0.95      0.96      0.95    137337\n",
      "weighted avg       0.96      0.96      0.96    137337\n",
      "\n",
      "\n",
      "CONFUSION MATRIX\n"
     ]
    },
    {
     "data": {
      "text/plain": [
       "<matplotlib.axes._subplots.AxesSubplot at 0x7abe5afce710>"
      ]
     },
     "execution_count": 35,
     "metadata": {},
     "output_type": "execute_result"
    },
    {
     "data": {
      "image/png": "[encoded data removed]",
      "text/plain": [
       "<Figure size 432x288 with 2 Axes>"
      ]
     },
     "metadata": {
      "needs_background": "light"
     },
     "output_type": "display_data"
    }
   ],
   "source": [
    "print('Training Accuracy :',lr.score(trainX,trainY))\n",
    "print('Testing Accuracy :',lr.score(testX,testY))\n",
    "con_mat = pd.DataFrame(confusion_matrix(lr.predict(testX), testY),\n",
    "            columns = ['Predicted:Bad', 'Predicted:Good'],\n",
    "            index = ['Actual:Bad', 'Actual:Good'])\n",
    "\n",
    "\n",
    "print('\\nCLASSIFICATION REPORT\\n')\n",
    "print(classification_report(lr.predict(testX), testY,\n",
    "                            target_names =['Bad','Good']))\n",
    "\n",
    "print('\\nCONFUSION MATRIX')\n",
    "plt.figure(figsize= (6,4))\n",
    "sns.heatmap(con_mat, annot = True,fmt='d',cmap=\"YlGnBu\")"
   ]
  },
  {
   "cell_type": "markdown",
   "metadata": {
    "papermill": {
     "duration": 0.051385,
     "end_time": "2023-11-24T01:59:06.112968",
     "exception": false,
     "start_time": "2023-11-24T01:59:06.061583",
     "status": "completed"
    },
    "tags": []
   },
   "source": [
    "### MultinomialNB\n",
    "* Applying Multinomial Naive Bayes to NLP Problems. Naive Bayes Classifier Algorithm is a family of probabilistic algorithms based on applying Bayes' theorem with the “naive” assumption of conditional independence between every pair of a feature."
   ]
  },
  {
   "cell_type": "code",
   "execution_count": 36,
   "metadata": {
    "execution": {
     "iopub.execute_input": "2023-11-24T01:59:06.218929Z",
     "iopub.status.busy": "2023-11-24T01:59:06.218354Z",
     "iopub.status.idle": "2023-11-24T01:59:06.222760Z",
     "shell.execute_reply": "2023-11-24T01:59:06.223224Z",
     "shell.execute_reply.started": "2023-11-24T01:40:39.986779Z"
    },
    "papermill": {
     "duration": 0.057856,
     "end_time": "2023-11-24T01:59:06.223390",
     "exception": false,
     "start_time": "2023-11-24T01:59:06.165534",
     "status": "completed"
    },
    "tags": []
   },
   "outputs": [],
   "source": [
    "# create mnb object\n",
    "mnb = MultinomialNB()"
   ]
  },
  {
   "cell_type": "code",
   "execution_count": 37,
   "metadata": {
    "execution": {
     "iopub.execute_input": "2023-11-24T01:59:06.328710Z",
     "iopub.status.busy": "2023-11-24T01:59:06.328189Z",
     "iopub.status.idle": "2023-11-24T01:59:07.689133Z",
     "shell.execute_reply": "2023-11-24T01:59:07.689756Z",
     "shell.execute_reply.started": "2023-11-24T01:40:39.994191Z"
    },
    "papermill": {
     "duration": 1.415373,
     "end_time": "2023-11-24T01:59:07.689949",
     "exception": false,
     "start_time": "2023-11-24T01:59:06.274576",
     "status": "completed"
    },
    "tags": []
   },
   "outputs": [
    {
     "data": {
      "text/plain": [
       "MultinomialNB()"
      ]
     },
     "execution_count": 37,
     "metadata": {},
     "output_type": "execute_result"
    }
   ],
   "source": [
    "mnb.fit(trainX,trainY)"
   ]
  },
  {
   "cell_type": "code",
   "execution_count": 38,
   "metadata": {
    "execution": {
     "iopub.execute_input": "2023-11-24T01:59:07.797685Z",
     "iopub.status.busy": "2023-11-24T01:59:07.796896Z",
     "iopub.status.idle": "2023-11-24T01:59:08.082190Z",
     "shell.execute_reply": "2023-11-24T01:59:08.082600Z",
     "shell.execute_reply.started": "2023-11-24T01:40:43.666489Z"
    },
    "papermill": {
     "duration": 0.340052,
     "end_time": "2023-11-24T01:59:08.082759",
     "exception": false,
     "start_time": "2023-11-24T01:59:07.742707",
     "status": "completed"
    },
    "tags": []
   },
   "outputs": [
    {
     "data": {
      "text/plain": [
       "0.957353080378922"
      ]
     },
     "execution_count": 38,
     "metadata": {},
     "output_type": "execute_result"
    }
   ],
   "source": [
    "mnb.score(testX,testY)"
   ]
  },
  {
   "cell_type": "markdown",
   "metadata": {
    "papermill": {
     "duration": 0.053381,
     "end_time": "2023-11-24T01:59:08.188946",
     "exception": false,
     "start_time": "2023-11-24T01:59:08.135565",
     "status": "completed"
    },
    "tags": []
   },
   "source": [
    "*** MultinomialNB gives us 95% accuracy**  "
   ]
  },
  {
   "cell_type": "code",
   "execution_count": 39,
   "metadata": {
    "execution": {
     "iopub.execute_input": "2023-11-24T01:59:08.299956Z",
     "iopub.status.busy": "2023-11-24T01:59:08.299210Z",
     "iopub.status.idle": "2023-11-24T01:59:08.588029Z",
     "shell.execute_reply": "2023-11-24T01:59:08.587447Z",
     "shell.execute_reply.started": "2023-11-24T01:40:44.427771Z"
    },
    "papermill": {
     "duration": 0.345575,
     "end_time": "2023-11-24T01:59:08.588145",
     "exception": false,
     "start_time": "2023-11-24T01:59:08.242570",
     "status": "completed"
    },
    "tags": []
   },
   "outputs": [],
   "source": [
    "Scores_ml['MultinomialNB'] = np.round(mnb.score(testX,testY),2)"
   ]
  },
  {
   "cell_type": "code",
   "execution_count": 40,
   "metadata": {
    "execution": {
     "iopub.execute_input": "2023-11-24T01:59:08.698386Z",
     "iopub.status.busy": "2023-11-24T01:59:08.697683Z",
     "iopub.status.idle": "2023-11-24T01:59:14.638792Z",
     "shell.execute_reply": "2023-11-24T01:59:14.638229Z",
     "shell.execute_reply.started": "2023-11-24T01:40:45.200647Z"
    },
    "papermill": {
     "duration": 5.999931,
     "end_time": "2023-11-24T01:59:14.638900",
     "exception": false,
     "start_time": "2023-11-24T01:59:08.638969",
     "status": "completed"
    },
    "tags": []
   },
   "outputs": [
    {
     "name": "stdout",
     "output_type": "stream",
     "text": [
      "Training Accuracy : 0.9740321206575584\n",
      "Testing Accuracy : 0.957353080378922\n",
      "\n",
      "CLASSIFICATION REPORT\n",
      "\n",
      "              precision    recall  f1-score   support\n",
      "\n",
      "         Bad       0.91      0.93      0.92     38197\n",
      "        Good       0.97      0.97      0.97     99140\n",
      "\n",
      "    accuracy                           0.96    137337\n",
      "   macro avg       0.94      0.95      0.95    137337\n",
      "weighted avg       0.96      0.96      0.96    137337\n",
      "\n",
      "\n",
      "CONFUSION MATRIX\n"
     ]
    },
    {
     "data": {
      "text/plain": [
       "<matplotlib.axes._subplots.AxesSubplot at 0x7abe2419c790>"
      ]
     },
     "execution_count": 40,
     "metadata": {},
     "output_type": "execute_result"
    },
    {
     "data": {
      "image/png": "[encoded data removed]",
      "text/plain": [
       "<Figure size 432x288 with 2 Axes>"
      ]
     },
     "metadata": {
      "needs_background": "light"
     },
     "output_type": "display_data"
    }
   ],
   "source": [
    "print('Training Accuracy :',mnb.score(trainX,trainY))\n",
    "print('Testing Accuracy :',mnb.score(testX,testY))\n",
    "con_mat = pd.DataFrame(confusion_matrix(mnb.predict(testX), testY),\n",
    "            columns = ['Predicted:Bad', 'Predicted:Good'],\n",
    "            index = ['Actual:Bad', 'Actual:Good'])\n",
    "\n",
    "\n",
    "print('\\nCLASSIFICATION REPORT\\n')\n",
    "print(classification_report(mnb.predict(testX), testY,\n",
    "                            target_names =['Bad','Good']))\n",
    "\n",
    "print('\\nCONFUSION MATRIX')\n",
    "plt.figure(figsize= (6,4))\n",
    "sns.heatmap(con_mat, annot = True,fmt='d',cmap=\"YlGnBu\")"
   ]
  },
  {
   "cell_type": "code",
   "execution_count": 41,
   "metadata": {
    "execution": {
     "iopub.execute_input": "2023-11-24T01:59:14.766688Z",
     "iopub.status.busy": "2023-11-24T01:59:14.764083Z",
     "iopub.status.idle": "2023-11-24T01:59:14.868152Z",
     "shell.execute_reply": "2023-11-24T01:59:14.867445Z",
     "shell.execute_reply.started": "2023-11-24T01:41:00.964973Z"
    },
    "papermill": {
     "duration": 0.174858,
     "end_time": "2023-11-24T01:59:14.868281",
     "exception": false,
     "start_time": "2023-11-24T01:59:14.693423",
     "status": "completed"
    },
    "tags": []
   },
   "outputs": [
    {
     "data": {
      "text/plain": [
       "<matplotlib.axes._subplots.AxesSubplot at 0x7abe23fdbb90>"
      ]
     },
     "execution_count": 41,
     "metadata": {},
     "output_type": "execute_result"
    },
    {
     "data": {
      "image/png": "[encoded data removed]",
      "text/plain": [
       "<Figure size 432x288 with 1 Axes>"
      ]
     },
     "metadata": {},
     "output_type": "display_data"
    }
   ],
   "source": [
    "acc = pd.DataFrame.from_dict(Scores_ml,orient = 'index',columns=['Accuracy'])\n",
    "sns.set_style('darkgrid')\n",
    "sns.barplot(acc.index,acc.Accuracy)"
   ]
  },
  {
   "cell_type": "markdown",
   "metadata": {
    "papermill": {
     "duration": 0.054001,
     "end_time": "2023-11-24T01:59:14.976049",
     "exception": false,
     "start_time": "2023-11-24T01:59:14.922048",
     "status": "completed"
    },
    "tags": []
   },
   "source": [
    "*** So, Logistic Regression is the best fit model, Now we make sklearn pipeline using Logistic Regression**"
   ]
  },
  {
   "cell_type": "code",
   "execution_count": 42,
   "metadata": {
    "execution": {
     "iopub.execute_input": "2023-11-24T01:59:15.092008Z",
     "iopub.status.busy": "2023-11-24T01:59:15.091081Z",
     "iopub.status.idle": "2023-11-24T01:59:15.095048Z",
     "shell.execute_reply": "2023-11-24T01:59:15.095607Z",
     "shell.execute_reply.started": "2023-11-24T01:41:01.124865Z"
    },
    "papermill": {
     "duration": 0.06463,
     "end_time": "2023-11-24T01:59:15.095739",
     "exception": false,
     "start_time": "2023-11-24T01:59:15.031109",
     "status": "completed"
    },
    "tags": []
   },
   "outputs": [],
   "source": [
    "pipeline_ls = make_pipeline(CountVectorizer(tokenizer = RegexpTokenizer(r'[A-Za-z]+').tokenize,stop_words='english'), LogisticRegression())\n",
    "##(r'\\b(?:http|ftp)s?://\\S*\\w|\\w+|[^\\w\\s]+') ([a-zA-Z]+)([0-9]+)  -- these tolenizers giving me low accuray "
   ]
  },
  {
   "cell_type": "code",
   "execution_count": 43,
   "metadata": {
    "execution": {
     "iopub.execute_input": "2023-11-24T01:59:15.209788Z",
     "iopub.status.busy": "2023-11-24T01:59:15.209074Z",
     "iopub.status.idle": "2023-11-24T01:59:15.385537Z",
     "shell.execute_reply": "2023-11-24T01:59:15.386068Z",
     "shell.execute_reply.started": "2023-11-24T01:41:01.132603Z"
    },
    "papermill": {
     "duration": 0.235182,
     "end_time": "2023-11-24T01:59:15.386203",
     "exception": false,
     "start_time": "2023-11-24T01:59:15.151021",
     "status": "completed"
    },
    "tags": []
   },
   "outputs": [],
   "source": [
    "trainX, testX, trainY, testY = train_test_split(phish_data.URL, phish_data.Label)"
   ]
  },
  {
   "cell_type": "code",
   "execution_count": 44,
   "metadata": {
    "execution": {
     "iopub.execute_input": "2023-11-24T01:59:15.503341Z",
     "iopub.status.busy": "2023-11-24T01:59:15.502718Z",
     "iopub.status.idle": "2023-11-24T01:59:29.809976Z",
     "shell.execute_reply": "2023-11-24T01:59:29.810419Z",
     "shell.execute_reply.started": "2023-11-24T01:41:01.302479Z"
    },
    "papermill": {
     "duration": 14.370295,
     "end_time": "2023-11-24T01:59:29.810611",
     "exception": false,
     "start_time": "2023-11-24T01:59:15.440316",
     "status": "completed"
    },
    "tags": []
   },
   "outputs": [
    {
     "data": {
      "text/plain": [
       "Pipeline(steps=[('countvectorizer',\n",
       "                 CountVectorizer(stop_words='english',\n",
       "                                 tokenizer=<bound method RegexpTokenizer.tokenize of RegexpTokenizer(pattern='[A-Za-z]+', gaps=False, discard_empty=True, flags=<RegexFlag.UNICODE|DOTALL|MULTILINE: 56>)>)),\n",
       "                ('logisticregression', LogisticRegression())])"
      ]
     },
     "execution_count": 44,
     "metadata": {},
     "output_type": "execute_result"
    }
   ],
   "source": [
    "pipeline_ls.fit(trainX,trainY)"
   ]
  },
  {
   "cell_type": "code",
   "execution_count": 45,
   "metadata": {
    "execution": {
     "iopub.execute_input": "2023-11-24T01:59:29.932640Z",
     "iopub.status.busy": "2023-11-24T01:59:29.931910Z",
     "iopub.status.idle": "2023-11-24T01:59:31.834699Z",
     "shell.execute_reply": "2023-11-24T01:59:31.834154Z",
     "shell.execute_reply.started": "2023-11-24T01:41:23.179057Z"
    },
    "papermill": {
     "duration": 1.965751,
     "end_time": "2023-11-24T01:59:31.834798",
     "exception": false,
     "start_time": "2023-11-24T01:59:29.869047",
     "status": "completed"
    },
    "tags": []
   },
   "outputs": [
    {
     "data": {
      "text/plain": [
       "0.9665203113509105"
      ]
     },
     "execution_count": 45,
     "metadata": {},
     "output_type": "execute_result"
    }
   ],
   "source": [
    "pipeline_ls.score(testX,testY) "
   ]
  },
  {
   "cell_type": "code",
   "execution_count": 46,
   "metadata": {
    "execution": {
     "iopub.execute_input": "2023-11-24T01:59:31.987227Z",
     "iopub.status.busy": "2023-11-24T01:59:31.982329Z",
     "iopub.status.idle": "2023-11-24T01:59:48.235683Z",
     "shell.execute_reply": "2023-11-24T01:59:48.234820Z",
     "shell.execute_reply.started": "2023-11-24T01:41:26.665325Z"
    },
    "papermill": {
     "duration": 16.346973,
     "end_time": "2023-11-24T01:59:48.235861",
     "exception": false,
     "start_time": "2023-11-24T01:59:31.888888",
     "status": "completed"
    },
    "tags": []
   },
   "outputs": [
    {
     "name": "stdout",
     "output_type": "stream",
     "text": [
      "Training Accuracy : 0.9803086825773223\n",
      "Testing Accuracy : 0.9665203113509105\n",
      "\n",
      "CLASSIFICATION REPORT\n",
      "\n",
      "              precision    recall  f1-score   support\n",
      "\n",
      "         Bad       0.91      0.97      0.94     36632\n",
      "        Good       0.99      0.97      0.98    100705\n",
      "\n",
      "    accuracy                           0.97    137337\n",
      "   macro avg       0.95      0.97      0.96    137337\n",
      "weighted avg       0.97      0.97      0.97    137337\n",
      "\n",
      "\n",
      "CONFUSION MATRIX\n"
     ]
    },
    {
     "data": {
      "text/plain": [
       "<matplotlib.axes._subplots.AxesSubplot at 0x7abe1fa758d0>"
      ]
     },
     "execution_count": 46,
     "metadata": {},
     "output_type": "execute_result"
    },
    {
     "data": {
      "image/png": "[encoded data removed]",
      "text/plain": [
       "<Figure size 432x288 with 2 Axes>"
      ]
     },
     "metadata": {},
     "output_type": "display_data"
    }
   ],
   "source": [
    "print('Training Accuracy :',pipeline_ls.score(trainX,trainY))\n",
    "print('Testing Accuracy :',pipeline_ls.score(testX,testY))\n",
    "con_mat = pd.DataFrame(confusion_matrix(pipeline_ls.predict(testX), testY),\n",
    "            columns = ['Predicted:Bad', 'Predicted:Good'],\n",
    "            index = ['Actual:Bad', 'Actual:Good'])\n",
    "\n",
    "\n",
    "print('\\nCLASSIFICATION REPORT\\n')\n",
    "print(classification_report(pipeline_ls.predict(testX), testY,\n",
    "                            target_names =['Bad','Good']))\n",
    "\n",
    "print('\\nCONFUSION MATRIX')\n",
    "plt.figure(figsize= (6,4))\n",
    "sns.heatmap(con_mat, annot = True,fmt='d',cmap=\"YlGnBu\")"
   ]
  },
  {
   "cell_type": "code",
   "execution_count": 47,
   "metadata": {
    "execution": {
     "iopub.execute_input": "2023-11-24T01:59:48.360780Z",
     "iopub.status.busy": "2023-11-24T01:59:48.360138Z",
     "iopub.status.idle": "2023-11-24T01:59:48.536869Z",
     "shell.execute_reply": "2023-11-24T01:59:48.536176Z",
     "shell.execute_reply.started": "2023-11-24T01:42:02.161719Z"
    },
    "papermill": {
     "duration": 0.240846,
     "end_time": "2023-11-24T01:59:48.536995",
     "exception": false,
     "start_time": "2023-11-24T01:59:48.296149",
     "status": "completed"
    },
    "tags": []
   },
   "outputs": [],
   "source": [
    "pickle.dump(pipeline_ls,open('phishing.pkl','wb'))"
   ]
  },
  {
   "cell_type": "code",
   "execution_count": 48,
   "metadata": {
    "execution": {
     "iopub.execute_input": "2023-11-24T01:59:48.658280Z",
     "iopub.status.busy": "2023-11-24T01:59:48.657777Z",
     "iopub.status.idle": "2023-11-24T01:59:50.529612Z",
     "shell.execute_reply": "2023-11-24T01:59:50.529050Z",
     "shell.execute_reply.started": "2023-11-24T01:42:02.382259Z"
    },
    "papermill": {
     "duration": 1.934316,
     "end_time": "2023-11-24T01:59:50.529719",
     "exception": false,
     "start_time": "2023-11-24T01:59:48.595403",
     "status": "completed"
    },
    "tags": []
   },
   "outputs": [
    {
     "name": "stdout",
     "output_type": "stream",
     "text": [
      "0.9665203113509105\n"
     ]
    }
   ],
   "source": [
    "loaded_model = pickle.load(open('phishing.pkl', 'rb'))\n",
    "result = loaded_model.score(testX,testY)\n",
    "print(result)"
   ]
  },
  {
   "cell_type": "code",
   "execution_count": 49,
   "metadata": {
    "execution": {
     "iopub.execute_input": "2023-11-24T01:59:50.662054Z",
     "iopub.status.busy": "2023-11-24T01:59:50.650919Z",
     "iopub.status.idle": "2023-11-24T01:59:50.792793Z",
     "shell.execute_reply": "2023-11-24T01:59:50.792051Z",
     "shell.execute_reply.started": "2023-11-24T01:42:06.059529Z"
    },
    "papermill": {
     "duration": 0.20583,
     "end_time": "2023-11-24T01:59:50.792927",
     "exception": false,
     "start_time": "2023-11-24T01:59:50.587097",
     "status": "completed"
    },
    "tags": []
   },
   "outputs": [
    {
     "name": "stdout",
     "output_type": "stream",
     "text": [
      "['bad' 'bad' 'bad' 'bad']\n",
      "******************************\n",
      "['good' 'good' 'good' 'good']\n"
     ]
    }
   ],
   "source": [
    "predict_bad = ['yeniik.com.tr/wp-admin/js/login.alibaba.com/login.jsp.php','fazan-pacir.rs/temp/libraries/ipad','tubemoviez.exe','svision-online.de/mgfi/administrator/components/com_babackup/classes/fx29id1.txt']\n",
    "predict_good = ['youtube.com/','youtube.com/watch?v=qI0TQJI3vdU','retailhellunderground.com/','restorevisioncenters.com/html/technology.html']\n",
    "loaded_model = pickle.load(open('phishing.pkl', 'rb'))\n",
    "#predict_bad = vectorizers.transform(predict_bad)\n",
    "# predict_good = vectorizer.transform(predict_good)\n",
    "result = loaded_model.predict(predict_bad)\n",
    "result2 = loaded_model.predict(predict_good)\n",
    "print(result)\n",
    "print(\"*\"*30)\n",
    "print(result2)"
   ]
  }
 ],
 "metadata": {
  "kaggle": {
   "accelerator": "none",
   "dataSources": [
    {
     "datasetId": 791543,
     "sourceId": 1359146,
     "sourceType": "datasetVersion"
    }
   ],
   "dockerImageVersionId": 29980,
   "isGpuEnabled": false,
   "isInternetEnabled": true,
   "language": "python",
   "sourceType": "notebook"
  },
  "kernelspec": {
   "display_name": "Python 3",
   "language": "python",
   "name": "python3"
  },
  "language_info": {
   "codemirror_mode": {
    "name": "ipython",
    "version": 3
   },
   "file_extension": ".py",
   "mimetype": "text/x-python",
   "name": "python",
   "nbconvert_exporter": "python",
   "pygments_lexer": "ipython3",
   "version": "3.7.6"
  },
  "papermill": {
   "duration": 154.289141,
   "end_time": "2023-11-24T01:59:50.958408",
   "environment_variables": {},
   "exception": null,
   "input_path": "__notebook__.ipynb",
   "output_path": "__notebook__.ipynb",
   "parameters": {},
   "start_time": "2023-11-24T01:57:16.669267",
   "version": "2.1.0"
  }
 },
 "nbformat": 4,
 "nbformat_minor": 4
}
